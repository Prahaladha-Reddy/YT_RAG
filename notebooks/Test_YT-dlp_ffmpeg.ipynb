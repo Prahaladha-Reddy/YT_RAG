{
 "cells": [
  {
   "cell_type": "code",
   "execution_count": 1,
   "id": "eb3927bc",
   "metadata": {},
   "outputs": [
    {
     "name": "stdout",
     "output_type": "stream",
     "text": [
      "hi\n"
     ]
    }
   ],
   "source": [
    "print(\"hi\")"
   ]
  },
  {
   "cell_type": "code",
   "execution_count": 2,
   "id": "9d257874",
   "metadata": {},
   "outputs": [],
   "source": [
    "import yt_dlp\n",
    "\n",
    "def get_video_info(youtube_url: str) -> dict:\n",
    "    \"\"\"\n",
    "    Takes a YouTube URL and returns a dictionary containing the direct\n",
    "    video stream URL and the video's duration in seconds.\n",
    "\n",
    "    Args:\n",
    "        youtube_url: The standard URL of the YouTube video.\n",
    "\n",
    "    Returns:\n",
    "        A dictionary with 'stream_url' and 'duration'.\n",
    "    \"\"\"\n",
    "    # yt-dlp options: we want the best quality MP4 format.\n",
    "    ydl_opts = {'format': 'best[ext=mp4]'}\n",
    "\n",
    "    # The 'with' statement ensures resources are managed correctly.\n",
    "    with yt_dlp.YoutubeDL(ydl_opts) as ydl:\n",
    "        # The key is 'download=False'. This prevents downloading the video.\n",
    "        info = ydl.extract_info(youtube_url, download=False)\n",
    "        \n",
    "        # Extract the necessary information\n",
    "        stream_url = info['url']\n",
    "        duration = int(info['duration'])\n",
    "        \n",
    "        print(f\"✅ Successfully found stream URL for a video of {duration} seconds.\")\n",
    "        \n",
    "        return {\n",
    "            'stream_url': stream_url,\n",
    "            'duration': duration\n",
    "        }"
   ]
  },
  {
   "cell_type": "code",
   "execution_count": 3,
   "id": "aebf3135",
   "metadata": {},
   "outputs": [],
   "source": [
    "import os\n",
    "import subprocess\n",
    "\n",
    "def extract_frames(stream_url: str, duration: int):\n",
    "    \"\"\"\n",
    "    Uses FFmpeg to extract frames from a video stream every 10 seconds.\n",
    "\n",
    "    Args:\n",
    "        stream_url: The direct video stream URL from get_video_info.\n",
    "        duration: The video's duration in seconds from get_video_info.\n",
    "    \"\"\"\n",
    "    output_dir = \"video_frames_output\"\n",
    "    os.makedirs(output_dir, exist_ok=True)\n",
    "    print(f\"Directory '{output_dir}' created. Starting frame extraction...\")\n",
    "\n",
    "    # Loop from the start to the end of the video, in 10-second steps.\n",
    "    for i in range(0, duration, 10):\n",
    "        # Format the timestamp into HH:MM:SS for FFmpeg\n",
    "        timestamp = f\"{i//3600:02d}:{(i%3600)//60:02d}:{i%60:02d}\"\n",
    "        output_filename = f\"{output_dir}/frame_at_{i}_sec.jpg\"\n",
    "        \n",
    "        # Construct the FFmpeg command as a list of arguments\n",
    "        command = [\n",
    "            'ffmpeg',\n",
    "            '-ss', timestamp,      # Seek (jump) to the specific timestamp\n",
    "            '-i', stream_url,       # The input is our direct stream URL\n",
    "            '-vframes', '1',        # We only want to extract 1 frame\n",
    "            '-q:v', '2',            # Set the image quality (1 is highest, 5 is high)\n",
    "            '-y',                   # Overwrite the file if it already exists\n",
    "            output_filename\n",
    "        ]\n",
    "        \n",
    "        try:\n",
    "            # Run the command using subprocess\n",
    "            subprocess.run(command, check=True, capture_output=True, text=True)\n",
    "            print(f\"📸 Successfully extracted: {output_filename}\")\n",
    "        except subprocess.CalledProcessError as e:\n",
    "            print(f\"❌ Failed to extract frame at {timestamp}.\")\n",
    "            print(f\"FFmpeg Error: {e.stderr}\")\n",
    "            break # Stop if there's an error\n",
    "            \n",
    "    print(\"\\n🎉 Frame extraction complete!\")"
   ]
  },
  {
   "cell_type": "code",
   "execution_count": 7,
   "id": "1ce098e3",
   "metadata": {},
   "outputs": [],
   "source": [
    "my_youtube_url = \"https://www.youtube.com/watch?v=t9mRf2S5vDI\" "
   ]
  },
  {
   "cell_type": "code",
   "execution_count": 8,
   "id": "92f2ccd5",
   "metadata": {},
   "outputs": [
    {
     "name": "stdout",
     "output_type": "stream",
     "text": [
      "[youtube] Extracting URL: https://www.youtube.com/watch?v=t9mRf2S5vDI\n",
      "[youtube] t9mRf2S5vDI: Downloading webpage\n",
      "[youtube] t9mRf2S5vDI: Downloading tv client config\n",
      "[youtube] t9mRf2S5vDI: Downloading tv player API JSON\n",
      "[youtube] t9mRf2S5vDI: Downloading tv simply player API JSON\n",
      "✅ Successfully found stream URL for a video of 1776 seconds.\n"
     ]
    }
   ],
   "source": [
    "video_info = get_video_info(my_youtube_url)"
   ]
  },
  {
   "cell_type": "code",
   "execution_count": 9,
   "id": "268f67c1",
   "metadata": {},
   "outputs": [
    {
     "name": "stdout",
     "output_type": "stream",
     "text": [
      "Directory 'video_frames_output' created. Starting frame extraction...\n",
      "📸 Successfully extracted: video_frames_output/frame_at_0_sec.jpg\n",
      "📸 Successfully extracted: video_frames_output/frame_at_10_sec.jpg\n",
      "📸 Successfully extracted: video_frames_output/frame_at_20_sec.jpg\n"
     ]
    },
    {
     "ename": "KeyboardInterrupt",
     "evalue": "",
     "output_type": "error",
     "traceback": [
      "\u001b[1;31m---------------------------------------------------------------------------\u001b[0m",
      "\u001b[1;31mKeyboardInterrupt\u001b[0m                         Traceback (most recent call last)",
      "Cell \u001b[1;32mIn[9], line 1\u001b[0m\n\u001b[1;32m----> 1\u001b[0m \u001b[43mextract_frames\u001b[49m\u001b[43m(\u001b[49m\n\u001b[0;32m      2\u001b[0m \u001b[43m    \u001b[49m\u001b[43mstream_url\u001b[49m\u001b[38;5;241;43m=\u001b[39;49m\u001b[43mvideo_info\u001b[49m\u001b[43m[\u001b[49m\u001b[38;5;124;43m'\u001b[39;49m\u001b[38;5;124;43mstream_url\u001b[39;49m\u001b[38;5;124;43m'\u001b[39;49m\u001b[43m]\u001b[49m\u001b[43m,\u001b[49m\n\u001b[0;32m      3\u001b[0m \u001b[43m    \u001b[49m\u001b[43mduration\u001b[49m\u001b[38;5;241;43m=\u001b[39;49m\u001b[43mvideo_info\u001b[49m\u001b[43m[\u001b[49m\u001b[38;5;124;43m'\u001b[39;49m\u001b[38;5;124;43mduration\u001b[39;49m\u001b[38;5;124;43m'\u001b[39;49m\u001b[43m]\u001b[49m\n\u001b[0;32m      4\u001b[0m \u001b[43m)\u001b[49m\n",
      "Cell \u001b[1;32mIn[3], line 35\u001b[0m, in \u001b[0;36mextract_frames\u001b[1;34m(stream_url, duration)\u001b[0m\n\u001b[0;32m     23\u001b[0m command \u001b[38;5;241m=\u001b[39m [\n\u001b[0;32m     24\u001b[0m     \u001b[38;5;124m'\u001b[39m\u001b[38;5;124mffmpeg\u001b[39m\u001b[38;5;124m'\u001b[39m,\n\u001b[0;32m     25\u001b[0m     \u001b[38;5;124m'\u001b[39m\u001b[38;5;124m-ss\u001b[39m\u001b[38;5;124m'\u001b[39m, timestamp,      \u001b[38;5;66;03m# Seek (jump) to the specific timestamp\u001b[39;00m\n\u001b[1;32m   (...)\u001b[0m\n\u001b[0;32m     30\u001b[0m     output_filename\n\u001b[0;32m     31\u001b[0m ]\n\u001b[0;32m     33\u001b[0m \u001b[38;5;28;01mtry\u001b[39;00m:\n\u001b[0;32m     34\u001b[0m     \u001b[38;5;66;03m# Run the command using subprocess\u001b[39;00m\n\u001b[1;32m---> 35\u001b[0m     \u001b[43msubprocess\u001b[49m\u001b[38;5;241;43m.\u001b[39;49m\u001b[43mrun\u001b[49m\u001b[43m(\u001b[49m\u001b[43mcommand\u001b[49m\u001b[43m,\u001b[49m\u001b[43m \u001b[49m\u001b[43mcheck\u001b[49m\u001b[38;5;241;43m=\u001b[39;49m\u001b[38;5;28;43;01mTrue\u001b[39;49;00m\u001b[43m,\u001b[49m\u001b[43m \u001b[49m\u001b[43mcapture_output\u001b[49m\u001b[38;5;241;43m=\u001b[39;49m\u001b[38;5;28;43;01mTrue\u001b[39;49;00m\u001b[43m,\u001b[49m\u001b[43m \u001b[49m\u001b[43mtext\u001b[49m\u001b[38;5;241;43m=\u001b[39;49m\u001b[38;5;28;43;01mTrue\u001b[39;49;00m\u001b[43m)\u001b[49m\n\u001b[0;32m     36\u001b[0m     \u001b[38;5;28mprint\u001b[39m(\u001b[38;5;124mf\u001b[39m\u001b[38;5;124m\"\u001b[39m\u001b[38;5;124m📸 Successfully extracted: \u001b[39m\u001b[38;5;132;01m{\u001b[39;00moutput_filename\u001b[38;5;132;01m}\u001b[39;00m\u001b[38;5;124m\"\u001b[39m)\n\u001b[0;32m     37\u001b[0m \u001b[38;5;28;01mexcept\u001b[39;00m subprocess\u001b[38;5;241m.\u001b[39mCalledProcessError \u001b[38;5;28;01mas\u001b[39;00m e:\n",
      "File \u001b[1;32m~\\AppData\\Roaming\\uv\\python\\cpython-3.10.15-windows-x86_64-none\\lib\\subprocess.py:505\u001b[0m, in \u001b[0;36mrun\u001b[1;34m(input, capture_output, timeout, check, *popenargs, **kwargs)\u001b[0m\n\u001b[0;32m    503\u001b[0m \u001b[38;5;28;01mwith\u001b[39;00m Popen(\u001b[38;5;241m*\u001b[39mpopenargs, \u001b[38;5;241m*\u001b[39m\u001b[38;5;241m*\u001b[39mkwargs) \u001b[38;5;28;01mas\u001b[39;00m process:\n\u001b[0;32m    504\u001b[0m     \u001b[38;5;28;01mtry\u001b[39;00m:\n\u001b[1;32m--> 505\u001b[0m         stdout, stderr \u001b[38;5;241m=\u001b[39m \u001b[43mprocess\u001b[49m\u001b[38;5;241;43m.\u001b[39;49m\u001b[43mcommunicate\u001b[49m\u001b[43m(\u001b[49m\u001b[38;5;28;43minput\u001b[39;49m\u001b[43m,\u001b[49m\u001b[43m \u001b[49m\u001b[43mtimeout\u001b[49m\u001b[38;5;241;43m=\u001b[39;49m\u001b[43mtimeout\u001b[49m\u001b[43m)\u001b[49m\n\u001b[0;32m    506\u001b[0m     \u001b[38;5;28;01mexcept\u001b[39;00m TimeoutExpired \u001b[38;5;28;01mas\u001b[39;00m exc:\n\u001b[0;32m    507\u001b[0m         process\u001b[38;5;241m.\u001b[39mkill()\n",
      "File \u001b[1;32m~\\AppData\\Roaming\\uv\\python\\cpython-3.10.15-windows-x86_64-none\\lib\\subprocess.py:1154\u001b[0m, in \u001b[0;36mPopen.communicate\u001b[1;34m(self, input, timeout)\u001b[0m\n\u001b[0;32m   1151\u001b[0m     endtime \u001b[38;5;241m=\u001b[39m \u001b[38;5;28;01mNone\u001b[39;00m\n\u001b[0;32m   1153\u001b[0m \u001b[38;5;28;01mtry\u001b[39;00m:\n\u001b[1;32m-> 1154\u001b[0m     stdout, stderr \u001b[38;5;241m=\u001b[39m \u001b[38;5;28;43mself\u001b[39;49m\u001b[38;5;241;43m.\u001b[39;49m\u001b[43m_communicate\u001b[49m\u001b[43m(\u001b[49m\u001b[38;5;28;43minput\u001b[39;49m\u001b[43m,\u001b[49m\u001b[43m \u001b[49m\u001b[43mendtime\u001b[49m\u001b[43m,\u001b[49m\u001b[43m \u001b[49m\u001b[43mtimeout\u001b[49m\u001b[43m)\u001b[49m\n\u001b[0;32m   1155\u001b[0m \u001b[38;5;28;01mexcept\u001b[39;00m \u001b[38;5;167;01mKeyboardInterrupt\u001b[39;00m:\n\u001b[0;32m   1156\u001b[0m     \u001b[38;5;66;03m# https://bugs.python.org/issue25942\u001b[39;00m\n\u001b[0;32m   1157\u001b[0m     \u001b[38;5;66;03m# See the detailed comment in .wait().\u001b[39;00m\n\u001b[0;32m   1158\u001b[0m     \u001b[38;5;28;01mif\u001b[39;00m timeout \u001b[38;5;129;01mis\u001b[39;00m \u001b[38;5;129;01mnot\u001b[39;00m \u001b[38;5;28;01mNone\u001b[39;00m:\n",
      "File \u001b[1;32m~\\AppData\\Roaming\\uv\\python\\cpython-3.10.15-windows-x86_64-none\\lib\\subprocess.py:1544\u001b[0m, in \u001b[0;36mPopen._communicate\u001b[1;34m(self, input, endtime, orig_timeout)\u001b[0m\n\u001b[0;32m   1540\u001b[0m \u001b[38;5;66;03m# Wait for the reader threads, or time out.  If we time out, the\u001b[39;00m\n\u001b[0;32m   1541\u001b[0m \u001b[38;5;66;03m# threads remain reading and the fds left open in case the user\u001b[39;00m\n\u001b[0;32m   1542\u001b[0m \u001b[38;5;66;03m# calls communicate again.\u001b[39;00m\n\u001b[0;32m   1543\u001b[0m \u001b[38;5;28;01mif\u001b[39;00m \u001b[38;5;28mself\u001b[39m\u001b[38;5;241m.\u001b[39mstdout \u001b[38;5;129;01mis\u001b[39;00m \u001b[38;5;129;01mnot\u001b[39;00m \u001b[38;5;28;01mNone\u001b[39;00m:\n\u001b[1;32m-> 1544\u001b[0m     \u001b[38;5;28;43mself\u001b[39;49m\u001b[38;5;241;43m.\u001b[39;49m\u001b[43mstdout_thread\u001b[49m\u001b[38;5;241;43m.\u001b[39;49m\u001b[43mjoin\u001b[49m\u001b[43m(\u001b[49m\u001b[38;5;28;43mself\u001b[39;49m\u001b[38;5;241;43m.\u001b[39;49m\u001b[43m_remaining_time\u001b[49m\u001b[43m(\u001b[49m\u001b[43mendtime\u001b[49m\u001b[43m)\u001b[49m\u001b[43m)\u001b[49m\n\u001b[0;32m   1545\u001b[0m     \u001b[38;5;28;01mif\u001b[39;00m \u001b[38;5;28mself\u001b[39m\u001b[38;5;241m.\u001b[39mstdout_thread\u001b[38;5;241m.\u001b[39mis_alive():\n\u001b[0;32m   1546\u001b[0m         \u001b[38;5;28;01mraise\u001b[39;00m TimeoutExpired(\u001b[38;5;28mself\u001b[39m\u001b[38;5;241m.\u001b[39margs, orig_timeout)\n",
      "File \u001b[1;32m~\\AppData\\Roaming\\uv\\python\\cpython-3.10.15-windows-x86_64-none\\lib\\threading.py:1096\u001b[0m, in \u001b[0;36mThread.join\u001b[1;34m(self, timeout)\u001b[0m\n\u001b[0;32m   1093\u001b[0m     \u001b[38;5;28;01mraise\u001b[39;00m \u001b[38;5;167;01mRuntimeError\u001b[39;00m(\u001b[38;5;124m\"\u001b[39m\u001b[38;5;124mcannot join current thread\u001b[39m\u001b[38;5;124m\"\u001b[39m)\n\u001b[0;32m   1095\u001b[0m \u001b[38;5;28;01mif\u001b[39;00m timeout \u001b[38;5;129;01mis\u001b[39;00m \u001b[38;5;28;01mNone\u001b[39;00m:\n\u001b[1;32m-> 1096\u001b[0m     \u001b[38;5;28;43mself\u001b[39;49m\u001b[38;5;241;43m.\u001b[39;49m\u001b[43m_wait_for_tstate_lock\u001b[49m\u001b[43m(\u001b[49m\u001b[43m)\u001b[49m\n\u001b[0;32m   1097\u001b[0m \u001b[38;5;28;01melse\u001b[39;00m:\n\u001b[0;32m   1098\u001b[0m     \u001b[38;5;66;03m# the behavior of a negative timeout isn't documented, but\u001b[39;00m\n\u001b[0;32m   1099\u001b[0m     \u001b[38;5;66;03m# historically .join(timeout=x) for x<0 has acted as if timeout=0\u001b[39;00m\n\u001b[0;32m   1100\u001b[0m     \u001b[38;5;28mself\u001b[39m\u001b[38;5;241m.\u001b[39m_wait_for_tstate_lock(timeout\u001b[38;5;241m=\u001b[39m\u001b[38;5;28mmax\u001b[39m(timeout, \u001b[38;5;241m0\u001b[39m))\n",
      "File \u001b[1;32m~\\AppData\\Roaming\\uv\\python\\cpython-3.10.15-windows-x86_64-none\\lib\\threading.py:1116\u001b[0m, in \u001b[0;36mThread._wait_for_tstate_lock\u001b[1;34m(self, block, timeout)\u001b[0m\n\u001b[0;32m   1113\u001b[0m     \u001b[38;5;28;01mreturn\u001b[39;00m\n\u001b[0;32m   1115\u001b[0m \u001b[38;5;28;01mtry\u001b[39;00m:\n\u001b[1;32m-> 1116\u001b[0m     \u001b[38;5;28;01mif\u001b[39;00m \u001b[43mlock\u001b[49m\u001b[38;5;241;43m.\u001b[39;49m\u001b[43macquire\u001b[49m\u001b[43m(\u001b[49m\u001b[43mblock\u001b[49m\u001b[43m,\u001b[49m\u001b[43m \u001b[49m\u001b[43mtimeout\u001b[49m\u001b[43m)\u001b[49m:\n\u001b[0;32m   1117\u001b[0m         lock\u001b[38;5;241m.\u001b[39mrelease()\n\u001b[0;32m   1118\u001b[0m         \u001b[38;5;28mself\u001b[39m\u001b[38;5;241m.\u001b[39m_stop()\n",
      "\u001b[1;31mKeyboardInterrupt\u001b[0m: "
     ]
    }
   ],
   "source": [
    "extract_frames(\n",
    "    stream_url=video_info['stream_url'],\n",
    "    duration=video_info['duration']\n",
    ")"
   ]
  },
  {
   "cell_type": "code",
   "execution_count": 5,
   "id": "a63c3368",
   "metadata": {},
   "outputs": [],
   "source": [
    "import os\n",
    "import subprocess\n",
    "import yt_dlp"
   ]
  },
  {
   "cell_type": "code",
   "execution_count": 2,
   "id": "45e8579d",
   "metadata": {},
   "outputs": [],
   "source": [
    "def get_video_info(youtube_url: str) -> dict:\n",
    "    \"\"\"\n",
    "    Takes a YouTube URL and returns a dictionary containing the direct\n",
    "    video stream URL and the video's duration in seconds.\n",
    "    \"\"\"\n",
    "    ydl_opts = {'format': 'best[ext=mp4]'}\n",
    "    with yt_dlp.YoutubeDL(ydl_opts) as ydl:\n",
    "        info = ydl.extract_info(youtube_url, download=False)\n",
    "        stream_url = info['url']\n",
    "        duration = int(info['duration'])\n",
    "        print(f\"✅ Successfully found stream URL for a video of {duration} seconds.\")\n",
    "        return {'stream_url': stream_url, 'duration': duration}"
   ]
  },
  {
   "cell_type": "code",
   "execution_count": 9,
   "id": "67e47e3a",
   "metadata": {},
   "outputs": [],
   "source": [
    "my_youtube_url = \"https://www.youtube.com/watch?v=t9mRf2S5vDI\" # Example video\n"
   ]
  },
  {
   "cell_type": "code",
   "execution_count": 10,
   "id": "09b600f2",
   "metadata": {},
   "outputs": [
    {
     "name": "stdout",
     "output_type": "stream",
     "text": [
      "[youtube] Extracting URL: https://www.youtube.com/watch?v=t9mRf2S5vDI\n",
      "[youtube] t9mRf2S5vDI: Downloading webpage\n",
      "[youtube] t9mRf2S5vDI: Downloading tv client config\n",
      "[youtube] t9mRf2S5vDI: Downloading tv player API JSON\n",
      "[youtube] t9mRf2S5vDI: Downloading tv simply player API JSON\n",
      "✅ Successfully found stream URL for a video of 1776 seconds.\n"
     ]
    }
   ],
   "source": [
    "data=get_video_info(my_youtube_url)"
   ]
  },
  {
   "cell_type": "code",
   "execution_count": 11,
   "id": "1c1fbee4",
   "metadata": {},
   "outputs": [
    {
     "data": {
      "text/plain": [
       "{'stream_url': 'https://rr1---sn-ci5gup-itq6.googlevideo.com/videoplayback?expire=1756050612&ei=VOCqaN6DKPWd4t4P0PGWoA4&ip=2401%3A4900%3A3671%3Aee25%3Ae0f5%3Aee34%3Acdf0%3A9b55&id=o-AKXfDLlaHlm4ASRW2ugwrfokzaST76LDyhpwaGGiEEMe&itag=18&source=youtube&requiressl=yes&xpc=EgVo2aDSNQ%3D%3D&met=1756029012%2C&mh=cJ&mm=31%2C29&mn=sn-ci5gup-itq6%2Csn-ci5gup-h55e&ms=au%2Crdu&mv=m&mvi=1&pcm2cms=yes&pl=45&rms=au%2Cau&initcwndbps=365000&bui=AY1jyLNaIjzbteclS0q5IxQvX-v5rD71nZXPnzcl9Z9YxfVFY-DRvSfAcV6MV7U852yg5RYXOsbTXwt0&spc=l3OVKZI4b4Mgkppn6MInP2RQq1RP6zAduTh-zIr4X_k9AxVC-dAbfIfQQJjDouK8ikbonDRz&vprv=1&svpuc=1&mime=video%2Fmp4&ns=KMlJbkaKJsuEAclbID0rrMUQ&rqh=1&cnr=14&ratebypass=yes&dur=1776.442&lmt=1688740674731572&mt=1756028466&fvip=11&lmw=1&fexp=51557447%2C51565116%2C51565682%2C51580970&c=TVHTML5&sefc=1&txp=6219224&n=RmgXigaq20WStw&sparams=expire%2Cei%2Cip%2Cid%2Citag%2Csource%2Crequiressl%2Cxpc%2Cbui%2Cspc%2Cvprv%2Csvpuc%2Cmime%2Cns%2Crqh%2Ccnr%2Cratebypass%2Cdur%2Clmt&sig=AJfQdSswRgIhAM2kDMju3Dd7SG2MV9392lWiUjVeB83ZzYfxQE0k5deGAiEAmAFHw-sIt9Ng763vsEMNdN-8eC46cuiu0kqYROe6KGo%3D&lsparams=met%2Cmh%2Cmm%2Cmn%2Cms%2Cmv%2Cmvi%2Cpcm2cms%2Cpl%2Crms%2Cinitcwndbps&lsig=APaTxxMwRgIhAO9t1nFfxGmhb0XFZT3D-DxxkrvlERghhLB2p2g8z0fnAiEAhPBubNOaZg2IieD1cMdvwSoXgMFFJ4nSPD7SDE3lRU8%3D',\n",
       " 'duration': 1776}"
      ]
     },
     "execution_count": 11,
     "metadata": {},
     "output_type": "execute_result"
    }
   ],
   "source": [
    "data"
   ]
  },
  {
   "cell_type": "code",
   "execution_count": null,
   "id": "4d3b0be8",
   "metadata": {},
   "outputs": [
    {
     "name": "stdout",
     "output_type": "stream",
     "text": [
      "[youtube] Extracting URL: https://www.youtube.com/watch?v=t9mRf2S5vDI\n",
      "[youtube] t9mRf2S5vDI: Downloading webpage\n"
     ]
    },
    {
     "name": "stdout",
     "output_type": "stream",
     "text": [
      "[youtube] t9mRf2S5vDI: Downloading tv client config\n",
      "[youtube] t9mRf2S5vDI: Downloading tv player API JSON\n",
      "[youtube] t9mRf2S5vDI: Downloading tv simply player API JSON\n",
      "✅ Successfully found stream URL for a video of 1776 seconds.\n",
      "Directory 'video_frames_output_fast' created. Starting FAST frame extraction...\n",
      "\n",
      "🎉 All frames extracted successfully!\n"
     ]
    }
   ],
   "source": [
    "def extract_frames_fast(stream_url: str):\n",
    "    \"\"\"\n",
    "    Uses a single, efficient FFmpeg command to extract frames every 10 seconds.\n",
    "    \n",
    "    Args:\n",
    "        stream_url: The direct video stream URL.\n",
    "    \"\"\"\n",
    "    output_dir = \"video_frames_output_fast\"\n",
    "    os.makedirs(output_dir, exist_ok=True)\n",
    "    print(f\"Directory '{output_dir}' created. Starting FAST frame extraction...\")\n",
    "\n",
    "    command = [\n",
    "        'ffmpeg',\n",
    "        '-i', stream_url,                     # Input from the direct stream URL\n",
    "        '-vf', 'fps=1/10',                    # The filter to apply: 1 frame every 10 seconds\n",
    "        f'{output_dir}/frame_%04d.jpg'         # The output file pattern\n",
    "    ]\n",
    "\n",
    "    try:\n",
    "        subprocess.run(command, check=True, capture_output=True, text=True)\n",
    "        print(\"\\n🎉 All frames extracted successfully!\")\n",
    "    except subprocess.CalledProcessError as e:\n",
    "        print(\"❌ FFmpeg command failed.\")\n",
    "        print(f\"Error: {e.stderr}\")\n",
    "\n",
    "if __name__ == \"__main__\":\n",
    "    my_youtube_url = \"https://www.youtube.com/watch?v=t9mRf2S5vDI\" # Example video\n",
    "\n",
    "    video_info = get_video_info(my_youtube_url)\n",
    "\n",
    "    if video_info:\n",
    "        extract_frames_fast(stream_url=video_info['stream_url'])"
   ]
  },
  {
   "cell_type": "code",
   "execution_count": null,
   "id": "2f34a5cf",
   "metadata": {},
   "outputs": [],
   "source": [
    "import re\n",
    "import subprocess\n",
    "\n",
    "def extract_frames_by_scene_change(stream_url: str):\n",
    "    \"\"\"\n",
    "    Extracts frames only when a significant visual change (scene change) is detected.\n",
    "    \"\"\"\n",
    "    print(\"🔬 Analyzing video for scene changes... this may take a moment.\")\n",
    "\n",
    "    scenedet_command = [\n",
    "        'ffmpeg',\n",
    "        '-i', stream_url,\n",
    "        '-vf', \"select='gt(scene,0.2)',showinfo\",\n",
    "        '-f', 'null', '-'\n",
    "    ]\n",
    "\n",
    "    # Run the command and capture its output (which prints to stderr)\n",
    "    result = subprocess.run(scenedet_command, capture_output=True, text=True)\n",
    "    \n",
    "    # Find all timestamps in the output using regular expressions\n",
    "    timestamps = re.findall(r\"pts_time:([\\d.]+)\", result.stderr)\n",
    "    \n",
    "    print(f\"✅ Analysis complete. Found {len(timestamps)} significant scene changes.\")\n",
    "\n",
    "    # 2. EXTRACTION PASS: Loop through timestamps and grab each frame\n",
    "    output_dir = \"video_frames_scene_detect\"\n",
    "    os.makedirs(output_dir, exist_ok=True)\n",
    "\n",
    "    for i, ts in enumerate(timestamps):\n",
    "        output_filename = f\"{output_dir}/scene_{i+1:04d}.jpg\"\n",
    "        extract_command = [\n",
    "            'ffmpeg',\n",
    "            '-ss', ts,\n",
    "            '-i', stream_url,\n",
    "            '-vframes', '1',\n",
    "            '-q:v', '2',\n",
    "            '-y',\n",
    "            output_filename\n",
    "        ]\n",
    "        subprocess.run(extract_command, capture_output=True, text=True)\n",
    "        print(f\"📸 Extracted {output_filename} at {float(ts):.2f} seconds\")\n",
    "\n",
    "    print(\"\\n🎉 Scene-based frame extraction complete!\")\n",
    "\n",
    "# --- How to use it ---\n",
    "# if __name__ == \"__main__\":\n",
    "#     video_info = get_video_info(\"YOUR_YOUTUBE_URL\")\n",
    "#     if video_info:\n",
    "#         extract_frames_by_scene_change(video_info['stream_url'])"
   ]
  },
  {
   "cell_type": "code",
   "execution_count": null,
   "id": "ea4fa4c6",
   "metadata": {},
   "outputs": [
    {
     "name": "stdout",
     "output_type": "stream",
     "text": [
      "[youtube] Extracting URL: https://www.youtube.com/watch?v=t9mRf2S5vDI\n"
     ]
    },
    {
     "name": "stdout",
     "output_type": "stream",
     "text": [
      "[youtube] t9mRf2S5vDI: Downloading webpage\n",
      "[youtube] t9mRf2S5vDI: Downloading tv client config\n",
      "[youtube] t9mRf2S5vDI: Downloading tv player API JSON\n",
      "[youtube] t9mRf2S5vDI: Downloading tv simply player API JSON\n",
      "✅ Successfully found stream URL for a video of 1776 seconds.\n",
      "🔬 Analyzing video for scene changes... this may take a moment.\n",
      "✅ Analysis complete. Found 16 significant scene changes.\n",
      "📸 Extracted video_frames_scene_detect/scene_0001.jpg at 659.13 seconds\n",
      "📸 Extracted video_frames_scene_detect/scene_0002.jpg at 673.81 seconds\n",
      "📸 Extracted video_frames_scene_detect/scene_0003.jpg at 674.81 seconds\n",
      "📸 Extracted video_frames_scene_detect/scene_0004.jpg at 676.91 seconds\n",
      "📸 Extracted video_frames_scene_detect/scene_0005.jpg at 698.56 seconds\n",
      "📸 Extracted video_frames_scene_detect/scene_0006.jpg at 915.95 seconds\n",
      "📸 Extracted video_frames_scene_detect/scene_0007.jpg at 1116.38 seconds\n",
      "📸 Extracted video_frames_scene_detect/scene_0008.jpg at 1118.62 seconds\n",
      "📸 Extracted video_frames_scene_detect/scene_0009.jpg at 1119.52 seconds\n",
      "📸 Extracted video_frames_scene_detect/scene_0010.jpg at 1137.14 seconds\n",
      "📸 Extracted video_frames_scene_detect/scene_0011.jpg at 1208.31 seconds\n",
      "📸 Extracted video_frames_scene_detect/scene_0012.jpg at 1279.91 seconds\n",
      "📸 Extracted video_frames_scene_detect/scene_0013.jpg at 1337.44 seconds\n",
      "📸 Extracted video_frames_scene_detect/scene_0014.jpg at 1399.60 seconds\n",
      "📸 Extracted video_frames_scene_detect/scene_0015.jpg at 1518.12 seconds\n",
      "📸 Extracted video_frames_scene_detect/scene_0016.jpg at 1749.31 seconds\n",
      "\n",
      "🎉 Scene-based frame extraction complete!\n"
     ]
    }
   ],
   "source": [
    "if __name__ == \"__main__\":\n",
    "    my_youtube_url = \"https://www.youtube.com/watch?v=t9mRf2S5vDI\" # Example video\n",
    "\n",
    "    video_info = get_video_info(my_youtube_url)\n",
    "\n",
    "    if video_info:\n",
    "        extract_frames_by_scene_change(stream_url=video_info['stream_url'])"
   ]
  },
  {
   "cell_type": "code",
   "execution_count": null,
   "id": "e0097f54",
   "metadata": {},
   "outputs": [],
   "source": []
  }
 ],
 "metadata": {
  "kernelspec": {
   "display_name": ".venv",
   "language": "python",
   "name": "python3"
  },
  "language_info": {
   "codemirror_mode": {
    "name": "ipython",
    "version": 3
   },
   "file_extension": ".py",
   "mimetype": "text/x-python",
   "name": "python",
   "nbconvert_exporter": "python",
   "pygments_lexer": "ipython3",
   "version": "3.10.15"
  }
 },
 "nbformat": 4,
 "nbformat_minor": 5
}
