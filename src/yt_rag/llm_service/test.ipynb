{
 "cells": [
  {
   "cell_type": "code",
   "execution_count": 5,
   "id": "4b969427",
   "metadata": {},
   "outputs": [
    {
     "name": "stdout",
     "output_type": "stream",
     "text": [
      "Successfully loaded image bytes.\n"
     ]
    }
   ],
   "source": [
    "from google import genai\n",
    "from google.genai import types\n",
    "\n",
    "image_paths = [\"Portrait of a Woman with Red Ribbon.jpg\",\"Portrait of Woman in Blue.jpg\"]\n",
    "encoded_images=[]\n",
    "for image in image_paths:\n",
    "  with open(image, 'rb') as f:\n",
    "      image_bytes = f.read()\n",
    "\n",
    "  image_encoded = types.Part.from_bytes(\n",
    "      data=image_bytes, mime_type=\"image/jpeg\"\n",
    "  )\n",
    "  encoded_images.append(image_encoded)\n",
    "\n",
    "print(\"Successfully loaded image bytes.\")"
   ]
  },
  {
   "cell_type": "code",
   "execution_count": 6,
   "id": "f5449bfb",
   "metadata": {},
   "outputs": [
    {
     "name": "stdout",
     "output_type": "stream",
     "text": [
      "These are two paintings by **Vincent van Gogh**.\n",
      "\n",
      "**Image 1 (Left):**\n",
      "*   **Title:** *La Mousmé* (or *The Young Girl from Arles*, *Half-Figure of a Girl*)\n",
      "*   **Year:** 1888\n",
      "*   **Subject:** It depicts a young Provençal girl, referred to by Van Gogh as a \"Japanese girl\" in her appearance. She is shown in profile, wearing a vibrant red bow in her dark hair and a light-colored dress with a ruffled collar, against a dark green background.\n",
      "\n",
      "**Image 2 (Right):**\n",
      "*   **Title:** *Portrait of Madame Augustine Roulin*\n",
      "*   **Year:** 1888\n",
      "*   **Subject:** This is one of several portraits Van Gogh painted of Augustine Roulin, the wife of his friend, the postman Joseph Roulin. She is depicted in a three-quarter profile, wearing a light blue-green dress, an earring, and a necklace with a cross, against a vivid blue background.\n",
      "\n",
      "Both paintings are characteristic of Van Gogh's expressive style from his Arles period, featuring bold, visible brushstrokes and striking use of color.\n"
     ]
    }
   ],
   "source": [
    "from yt_rag.llm_service.gemini_client import get_gemini_client\n",
    "client=get_gemini_client()\n",
    "\n",
    "response = client.models.generate_content(\n",
    "    model=\"gemini-2.5-flash\",\n",
    "    contents=[\"What is this image?\", encoded_images],\n",
    ")\n",
    "\n",
    "print(response.text)"
   ]
  },
  {
   "cell_type": "code",
   "execution_count": 7,
   "id": "7d9f558e",
   "metadata": {},
   "outputs": [
    {
     "name": "stdout",
     "output_type": "stream",
     "text": [
      "An expressive, richly textured oil painting depicts a young woman in profile, gazing thoughtfully to the left. She has lush, dark hair adorned with a striking, vibrant red bow. Her face is rendered with warm tones, featuring rouged cheeks, defined lips, and a visible eye, all painted with bold, visible brushstrokes. She wears a light-colored dress or blouse with a distinctive ruffled collar. The background is a deep, moody green, heavily textured with prominent brushstrokes, giving the entire piece a dynamic and powerful Post-Impressionist feel.\n"
     ]
    }
   ],
   "source": [
    "from yt_rag.llm_service.gemini_client import get_gemini_client\n",
    "\n",
    "client=get_gemini_client()\n",
    "\n",
    "my_file = client.files.upload(file=\"Portrait of a Woman with Red Ribbon.jpg\")\n",
    "\n",
    "response = client.models.generate_content(\n",
    "    model=\"gemini-2.5-flash\",\n",
    "    contents=[my_file, \"Caption this image.\"],\n",
    ")\n",
    "\n",
    "print(response.text)"
   ]
  },
  {
   "cell_type": "code",
   "execution_count": 9,
   "id": "339a46b8",
   "metadata": {},
   "outputs": [
    {
     "data": {
      "text/plain": [
       "'An expressive, richly textured oil painting depicts a young woman in profile, gazing thoughtfully to the left. She has lush, dark hair adorned with a striking, vibrant red bow. Her face is rendered with warm tones, featuring rouged cheeks, defined lips, and a visible eye, all painted with bold, visible brushstrokes. She wears a light-colored dress or blouse with a distinctive ruffled collar. The background is a deep, moody green, heavily textured with prominent brushstrokes, giving the entire piece a dynamic and powerful Post-Impressionist feel.'"
      ]
     },
     "execution_count": 9,
     "metadata": {},
     "output_type": "execute_result"
    }
   ],
   "source": [
    "response.text"
   ]
  },
  {
   "cell_type": "code",
   "execution_count": 13,
   "id": "13062ebc",
   "metadata": {},
   "outputs": [],
   "source": [
    "def ChatGemini(prompt, images=None):\n",
    "    contents = [prompt]\n",
    "    if images:\n",
    "        response = client.models.generate_content(\n",
    "        model=\"gemini-2.5-flash\",\n",
    "        contents=[images, prompt]\n",
    "        )\n",
    "    else:\n",
    "        response = client.models.generate_content(\n",
    "            model=\"gemini-2.5-flash\",\n",
    "            contents=prompt,\n",
    "        )\n",
    "    return response"
   ]
  },
  {
   "cell_type": "code",
   "execution_count": null,
   "id": "56b7d1a5",
   "metadata": {},
   "outputs": [],
   "source": [
    "response=ChatGemini(prompt=\"Can you explain me what it is\",images=my_file)"
   ]
  },
  {
   "cell_type": "code",
   "execution_count": 15,
   "id": "b0ebbbfc",
   "metadata": {},
   "outputs": [
    {
     "data": {
      "text/plain": [
       "'This painting is **\"Portrait of a Woman\"** (also known as \"Woman with a Red Bow\" or \"Woman with a Red Ribbon\") by **Vincent van Gogh**, painted in **1887**.\\n\\nHere\\'s an explanation of what it is:\\n\\n*   **Artist:** Vincent van Gogh (1853–1890), a prominent Dutch Post-Impressionist painter.\\n*   **Date:** 1887, during his time in Paris where he was influenced by Impressionism, Neo-Impressionism, and Japanese prints. This period was crucial for the development of his distinctive style.\\n*   **Medium:** Oil on canvas.\\n*   **Subject:** It is a portrait of an unknown woman, depicted in profile, facing to the left. She has dark hair styled up, adorned with a vivid, almost fiery red bow or ribbon. Her features are rendered with bold, expressive brushstrokes, particularly noticeable in the reddish flush on her cheek and lips. She wears a simple, light-colored dress with a ruffled collar.\\n*   **Artistic Style & Characteristics:**\\n    *   **Post-Impressionism:** The painting embodies key characteristics of Post-Impressionism, moving beyond the fleeting impressions of light to explore more structured forms, symbolic meanings, and the artist\\'s emotional response.\\n    *   **Brushwork (Impasto):** Van Gogh\\'s signature thick, visible, and energetic brushstrokes (impasto) are very evident throughout the work. The crops highlight this:\\n        *   The background (crops 1, 3, 4, 7) shows sweeping, directional strokes of dark green, giving it a dynamic texture.\\n        *   The red bow (crop 2) is a vibrant mass of thick, applied paint.\\n        *   Her face (crop 5) and clothing (crops 8, 9, 11, 12) also feature distinct, visible strokes that build form and convey texture rather than blending smoothly.\\n    *   **Color Palette:** Van Gogh uses a limited but impactful palette. The dark, rich green of the background creates a strong contrast with the warm, often reddish-orange tones of the woman\\'s skin and the striking, pure red of her bow. This contrast draws attention to the subject and adds to the painting\\'s emotional intensity.\\n    *   **Emotional Depth:** Even in profile, the woman\\'s portrayal suggests a sense of presence and character, a hallmark of Van Gogh\\'s portraiture where he sought to capture the inner life of his subjects.\\n\\nThis painting is a wonderful example of Van Gogh\\'s developing style during his Parisian period, showcasing his intense use of color, distinctive brushwork, and his profound engagement with his subjects.'"
      ]
     },
     "execution_count": 15,
     "metadata": {},
     "output_type": "execute_result"
    }
   ],
   "source": [
    "response.text"
   ]
  },
  {
   "cell_type": "code",
   "execution_count": 16,
   "id": "5dce0b68",
   "metadata": {},
   "outputs": [],
   "source": [
    "response=ChatGemini(prompt=\"Can you explain me what it is\")"
   ]
  },
  {
   "cell_type": "code",
   "execution_count": 17,
   "id": "94697b3c",
   "metadata": {},
   "outputs": [
    {
     "data": {
      "text/plain": [
       "'That\\'s a very broad question, because \"it\" is one of the most versatile and context-dependent words in the English language!\\n\\nTo give you the best explanation, I need you to tell me what \"it\" you\\'d like me to explain.\\n\\nHowever, I can explain what the word \"it\" generally means and how it\\'s used:\\n\\n---\\n\\n**What \"It\" Is (The Word Itself):**\\n\\n\"It\" is a pronoun. This means it\\'s a word used to refer to a noun that has already been mentioned, is easily understood from the context, or is otherwise indefinite.\\n\\nHere are the main ways \"it\" is used:\\n\\n1.  **Referring to a non-human thing, animal, or concept (singular):**\\n    *   \"I saw a **dog**. **It** was barking loudly.\" (Referring to the dog)\\n    *   \"The **book** is on the table. Can you hand **it** to me?\" (Referring to the book)\\n    *   \"**Happiness** is a strange thing. Sometimes **it** feels fleeting.\" (Referring to happiness)\\n\\n2.  **As a \"dummy\" or \"placeholder\" subject (often for time, weather, distance, or general situations):**\\n    *   **Weather:** \"**It**\\'s raining outside.\"\\n    *   **Time:** \"**It**\\'s 3 o\\'clock.\"\\n    *   **Distance:** \"**It**\\'s a long way to go.\"\\n    *   **General situation:** \"**It** seems that they\\'ve left.\"\\n    *   **Referring to an unstated fact or situation:** \"**It**\\'s important to remember your keys.\"\\n\\n3.  **To introduce or emphasize a clause (cleft sentences):**\\n    *   \"**It** was John who called.\" (Emphasizing John)\\n    *   \"**It** is clear that we need to act.\" (Introducing the fact)\\n\\n---\\n\\n**What \"It\" Could Be (What You Might Be Asking About):**\\n\\nGiven the nature of your question, you\\'re likely referring to something specific that\\'s currently on your mind. For example, are you asking:\\n\\n*   **What \"it\" is, referring to me (the AI you\\'re talking to)?**\\n    *   In that case, I am a large language model, an AI developed by Google. I\\'m designed to understand and generate human-like text, answer questions, summarize information, translate languages, and engage in creative writing.\\n*   **What \"it\" is, referring to a concept like \"AI\" or \"quantum physics\"?**\\n*   **What \"it\" is, referring to a specific object or event you\\'ve encountered?**\\n*   **What \"it\" is, referring to something we were just discussing in a previous turn of conversation?**\\n\\n---\\n\\n**To help you further, please tell me what \"it\" you\\'d like me to explain!** Once you give me some context, I can give you a much more specific and helpful answer.'"
      ]
     },
     "execution_count": 17,
     "metadata": {},
     "output_type": "execute_result"
    }
   ],
   "source": [
    "response.text"
   ]
  },
  {
   "cell_type": "code",
   "execution_count": null,
   "id": "9a5c1a10",
   "metadata": {},
   "outputs": [],
   "source": [
    "from google.genai import types\n",
    "\n",
    "# Define the function with type hints and docstring\n",
    "def get_current_temperature(location: str) -> dict:\n",
    "    \"\"\"Gets the current temperature for a given location.\n",
    "\n",
    "    Args:\n",
    "        location: The city e.g. San Francisco\n",
    "\n",
    "    Returns:\n",
    "        A dictionary containing the temperature and unit.\n",
    "    \"\"\"\n",
    "    # ... (implementation) ...\n",
    "    return {\"temperature\": 25, \"unit\": \"Celsius\"}\n"
   ]
  },
  {
   "cell_type": "code",
   "execution_count": 24,
   "id": "218adcad",
   "metadata": {},
   "outputs": [],
   "source": [
    "\n",
    "# Configure the client\n",
    "config = types.GenerateContentConfig(\n",
    "    tools=[get_current_temperature]\n",
    ")  # Pass "
   ]
  },
  {
   "cell_type": "code",
   "execution_count": 25,
   "id": "2b614ebb",
   "metadata": {},
   "outputs": [
    {
     "data": {
      "text/plain": [
       "GenerateContentConfig(\n",
       "  tools=[\n",
       "    <function get_current_temperature at 0x0000021CFFD35BD0>,\n",
       "  ]\n",
       ")"
      ]
     },
     "execution_count": 25,
     "metadata": {},
     "output_type": "execute_result"
    }
   ],
   "source": [
    "config"
   ]
  },
  {
   "cell_type": "code",
   "execution_count": 26,
   "id": "0ee6de2a",
   "metadata": {},
   "outputs": [],
   "source": [
    "# Make the request\n",
    "response = client.models.generate_content(\n",
    "    model=\"gemini-2.5-flash\",\n",
    "    contents=\"What's the temperature in Boston?\",\n",
    "    config=config,\n",
    ")"
   ]
  },
  {
   "cell_type": "code",
   "execution_count": 27,
   "id": "1d6f6de9",
   "metadata": {},
   "outputs": [
    {
     "name": "stdout",
     "output_type": "stream",
     "text": [
      "The current temperature in Boston is 25 degrees Celsius.\n"
     ]
    }
   ],
   "source": [
    "print(response.text) "
   ]
  },
  {
   "cell_type": "code",
   "execution_count": null,
   "id": "1408bf67",
   "metadata": {},
   "outputs": [],
   "source": [
    "conversation_memory = []\n",
    "\n",
    "def ChatGemini(prompt, images=None, use_memory=True):\n",
    "    global conversation_memory\n",
    "    \n",
    "    if use_memory and conversation_memory:\n",
    "        contents = conversation_memory + [prompt]\n",
    "    else:\n",
    "        contents = [prompt]\n",
    "    \n",
    "    if images:\n",
    "        response = client.models.generate_content(\n",
    "            model=\"gemini-2.5-flash\",\n",
    "            contents=[images, prompt]  \n",
    "        )\n",
    "    else:\n",
    "        response = client.models.generate_content(\n",
    "            model=\"gemini-2.5-flash\",\n",
    "            contents=contents,\n",
    "            config={\n",
    "                \"system_instruction\": system_prompt\n",
    "            }\n",
    "        )\n",
    "    \n",
    "    if use_memory:\n",
    "        conversation_memory.append(prompt)\n",
    "        \n",
    "        conversation_memory.append(response.text)\n",
    "        \n",
    "        max_memory_entries = 20 \n",
    "        if len(conversation_memory) > max_memory_entries:\n",
    "            conversation_memory = conversation_memory[-max_memory_entries:]\n",
    "    \n",
    "    return response\n",
    "\n",
    "def clear_memory():\n",
    "    \"\"\"Clear all conversation history\"\"\"\n",
    "    global conversation_memory\n",
    "    conversation_memory = []\n",
    "\n",
    "def get_memory_size():\n",
    "    \"\"\"Get current number of messages in memory\"\"\"\n",
    "    return len(conversation_memory)\n",
    "\n",
    "def save_memory_to_file(filename):\n",
    "    \"\"\"Save conversation memory to a JSON file\"\"\"\n",
    "    import json\n",
    "    with open(filename, 'w') as f:\n",
    "        json.dump(conversation_memory, f, indent=2)\n",
    "\n",
    "def load_memory_from_file(filename):\n",
    "    \"\"\"Load conversation memory from a JSON file\"\"\"\n",
    "    import json\n",
    "    global conversation_memory\n",
    "    try:\n",
    "        with open(filename, 'r') as f:\n",
    "            conversation_memory = json.load(f)\n",
    "        print(f\"Loaded {len(conversation_memory)} messages from {filename}\")\n",
    "    except FileNotFoundError:\n",
    "        print(f\"File {filename} not found. Starting with empty memory.\")\n",
    "    except json.JSONDecodeError:\n",
    "        print(f\"Error reading {filename}. Starting with empty memory.\")\n"
   ]
  },
  {
   "cell_type": "code",
   "execution_count": 62,
   "id": "a2d8c46f",
   "metadata": {},
   "outputs": [],
   "source": [
    "# Normal conversation with memory\n",
    "response1 = ChatGemini(\"My name is John\")\n"
   ]
  },
  {
   "cell_type": "code",
   "execution_count": 63,
   "id": "541c7c60",
   "metadata": {},
   "outputs": [
    {
     "data": {
      "text/plain": [
       "\"Nice to meet you, John! I'll remember that.\""
      ]
     },
     "execution_count": 63,
     "metadata": {},
     "output_type": "execute_result"
    }
   ],
   "source": [
    "response1.text"
   ]
  },
  {
   "cell_type": "code",
   "execution_count": 64,
   "id": "f23439be",
   "metadata": {},
   "outputs": [],
   "source": [
    "response2 = ChatGemini(\"What's my name?\") \n"
   ]
  },
  {
   "cell_type": "code",
   "execution_count": 65,
   "id": "2d599121",
   "metadata": {},
   "outputs": [
    {
     "data": {
      "text/plain": [
       "'Your name is John.'"
      ]
     },
     "execution_count": 65,
     "metadata": {},
     "output_type": "execute_result"
    }
   ],
   "source": [
    "response2.text"
   ]
  },
  {
   "cell_type": "code",
   "execution_count": 66,
   "id": "24a5e3ca",
   "metadata": {},
   "outputs": [],
   "source": [
    "response3 = ChatGemini(\"say my name again\", use_memory=False)"
   ]
  },
  {
   "cell_type": "code",
   "execution_count": 67,
   "id": "8c5b5372",
   "metadata": {},
   "outputs": [
    {
     "data": {
      "text/plain": [
       "\"I'm sorry, I don't know your name. I don't have access to past conversations or any personal information.\""
      ]
     },
     "execution_count": 67,
     "metadata": {},
     "output_type": "execute_result"
    }
   ],
   "source": [
    "response3.text"
   ]
  },
  {
   "cell_type": "code",
   "execution_count": 68,
   "id": "5442e970",
   "metadata": {},
   "outputs": [
    {
     "name": "stdout",
     "output_type": "stream",
     "text": [
      "Memory size: 4\n"
     ]
    }
   ],
   "source": [
    "print(f\"Memory size: {get_memory_size()}\")"
   ]
  },
  {
   "cell_type": "code",
   "execution_count": 69,
   "id": "c66e3821",
   "metadata": {},
   "outputs": [],
   "source": [
    "save_memory_to_file(\"my_chat.json\")\n"
   ]
  },
  {
   "cell_type": "code",
   "execution_count": 70,
   "id": "84cd10e0",
   "metadata": {},
   "outputs": [],
   "source": [
    "clear_memory()  "
   ]
  },
  {
   "cell_type": "code",
   "execution_count": 71,
   "id": "69725890",
   "metadata": {},
   "outputs": [
    {
     "name": "stdout",
     "output_type": "stream",
     "text": [
      "Loaded 4 messages from my_chat.json\n"
     ]
    }
   ],
   "source": [
    "load_memory_from_file(\"my_chat.json\")"
   ]
  },
  {
   "cell_type": "code",
   "execution_count": 72,
   "id": "94065359",
   "metadata": {},
   "outputs": [],
   "source": [
    "response3 = ChatGemini(\"say my name again\")"
   ]
  },
  {
   "cell_type": "code",
   "execution_count": 73,
   "id": "2f068cc9",
   "metadata": {},
   "outputs": [
    {
     "data": {
      "text/plain": [
       "'Your name is John.'"
      ]
     },
     "execution_count": 73,
     "metadata": {},
     "output_type": "execute_result"
    }
   ],
   "source": [
    "response3.text"
   ]
  },
  {
   "cell_type": "code",
   "execution_count": 74,
   "id": "58ae3fb2",
   "metadata": {},
   "outputs": [],
   "source": [
    "clear_memory()"
   ]
  },
  {
   "cell_type": "code",
   "execution_count": 14,
   "id": "f782ce3d",
   "metadata": {},
   "outputs": [],
   "source": [
    "def image2bytes_converter(paths):\n",
    "  encoded_images=[]\n",
    "  for image in paths:\n",
    "    with open(image, 'rb') as f:\n",
    "        image_bytes = f.read()\n",
    "\n",
    "    image_encoded = types.Part.from_bytes(\n",
    "        data=image_bytes, mime_type=\"image/jpeg\"\n",
    "    )\n",
    "    encoded_images.append(image_encoded)\n",
    "  return encoded_images\n"
   ]
  },
  {
   "cell_type": "code",
   "execution_count": 75,
   "id": "6f1f0970",
   "metadata": {},
   "outputs": [
    {
     "name": "stdout",
     "output_type": "stream",
     "text": [
      "Successfully loaded image bytes.\n"
     ]
    }
   ],
   "source": [
    "image_paths = [\"Portrait of a Woman with Red Ribbon.jpg\",\"Portrait of Woman in Blue.jpg\"]\n",
    "encoded_images=[]\n",
    "for image in image_paths:\n",
    "  with open(image, 'rb') as f:\n",
    "      image_bytes = f.read()\n",
    "\n",
    "  image_encoded = types.Part.from_bytes(\n",
    "      data=image_bytes, mime_type=\"image/jpeg\"\n",
    "  )\n",
    "  encoded_images.append(image_encoded)\n",
    "\n",
    "print(\"Successfully loaded image bytes.\")"
   ]
  },
  {
   "cell_type": "code",
   "execution_count": null,
   "id": "fcbc2ff2",
   "metadata": {},
   "outputs": [],
   "source": [
    "response_image1 = ChatGemini(\"what do you think about the image\",images=encoded_images[0])"
   ]
  },
  {
   "cell_type": "code",
   "execution_count": 78,
   "id": "6b488f42",
   "metadata": {},
   "outputs": [
    {
     "data": {
      "text/plain": [
       "'This is a powerful and expressive portrait, immediately striking for its vibrant use of color and highly visible brushwork. Here\\'s what I observe and think about the image:\\n\\n**Overall Impression:**\\nThe painting presents a captivating and somewhat introspective depiction of a young woman. Her profile is strong, and the overall mood feels pensive, yet with a touch of youthful defiance or spirit conveyed by the vivid red bow. The style is distinctly Post-Impressionistic, with a raw, almost visceral energy.\\n\\n**Key Aspects:**\\n\\n1.  **Brushwork and Texture (Impasto):** This is perhaps the most dominant feature. The paint is applied thickly (impasto), with individual brushstrokes clearly visible across the entire canvas.\\n    *   **Background:** The deep green background is rendered with energetic, swirling strokes (as seen in crops 1 and 3), giving it a dynamic texture that almost hums with movement, rather than being a flat, static space.\\n    *   **Figure:** The same technique is applied to the woman, giving her form a tangible, sculpted quality. You can almost feel the paint.\\n    *   **Clothing:** The strokes on her dress (crops 10, 11, 12) are long and directional, suggesting the folds and drape of the fabric while maintaining the textured quality.\\n\\n2.  **Color Palette:**\\n    *   **Contrast:** There\\'s a strong contrast between the dark, rich greens and blacks of the background and hair, and the warmer tones of her skin and the brilliant red of the bow.\\n    *   **Skin Tones:** Her face (crop 5) features warm ochres, yellows, and particularly striking reds and pinks on her cheek and lips. This isn\\'t strictly naturalistic but conveys a flush of life, emotion, or perhaps the effect of light.\\n    *   **Focal Point:** The bright red bow (crop 2) is an immediate eye-catcher, providing a vibrant splash of pure color against the darker tones and drawing attention to her head and expression.\\n    *   **Dress:** Her ruffled dress (crop 8) is painted in lighter, cooler greens and off-whites, providing a visual break and framing her neck and face.\\n\\n3.  **Composition and Subject:**\\n    *   The woman is depicted in a strong profile, looking left and slightly upwards, suggesting contemplation or a gaze fixed on something beyond the frame.\\n    *   Her dark hair is loosely styled, allowing the red bow to stand out prominently.\\n    *   The composition places her centrally but slightly to the right, leaving ample space for her gaze to extend into the left side of the canvas.\\n\\n4.  **Mood and Expression:**\\n    *   Her expression, while in profile, appears serious, perhaps pensive or even a little melancholic. The deep-set eye (crop 5) contributes to this sense of introspection.\\n    *   The bold, almost raw quality of the painting adds an intensity to her character.\\n\\n**Artistic Style:**\\nThis painting is highly characteristic of **Vincent van Gogh**, particularly from his period in Arles (late 1880s). The visible, directional brushstrokes, the expressive use of color (especially the greens, blues, and strong reds), and the way he uses impasto to build form and convey emotion are all hallmarks of his style. The subject itself, a young local woman often referred to as \"La Mousmé\" (a term for a young Provençal girl), is also typical of his desire to paint local people and daily life.\\n\\nIn summary, it\\'s a powerful and emotionally resonant portrait, distinguished by its vibrant colors, dynamic brushwork, and the artist\\'s unique ability to imbue the subject with a profound sense of character and feeling.'"
      ]
     },
     "execution_count": 78,
     "metadata": {},
     "output_type": "execute_result"
    }
   ],
   "source": [
    "response_image1.text"
   ]
  },
  {
   "cell_type": "code",
   "execution_count": 81,
   "id": "fad981d9",
   "metadata": {},
   "outputs": [],
   "source": [
    "from IPython.display import Markdown"
   ]
  },
  {
   "cell_type": "code",
   "execution_count": 82,
   "id": "a0dc89d7",
   "metadata": {},
   "outputs": [
    {
     "data": {
      "text/markdown": [
       "This is a powerful and expressive portrait, immediately striking for its vibrant use of color and highly visible brushwork. Here's what I observe and think about the image:\n",
       "\n",
       "**Overall Impression:**\n",
       "The painting presents a captivating and somewhat introspective depiction of a young woman. Her profile is strong, and the overall mood feels pensive, yet with a touch of youthful defiance or spirit conveyed by the vivid red bow. The style is distinctly Post-Impressionistic, with a raw, almost visceral energy.\n",
       "\n",
       "**Key Aspects:**\n",
       "\n",
       "1.  **Brushwork and Texture (Impasto):** This is perhaps the most dominant feature. The paint is applied thickly (impasto), with individual brushstrokes clearly visible across the entire canvas.\n",
       "    *   **Background:** The deep green background is rendered with energetic, swirling strokes (as seen in crops 1 and 3), giving it a dynamic texture that almost hums with movement, rather than being a flat, static space.\n",
       "    *   **Figure:** The same technique is applied to the woman, giving her form a tangible, sculpted quality. You can almost feel the paint.\n",
       "    *   **Clothing:** The strokes on her dress (crops 10, 11, 12) are long and directional, suggesting the folds and drape of the fabric while maintaining the textured quality.\n",
       "\n",
       "2.  **Color Palette:**\n",
       "    *   **Contrast:** There's a strong contrast between the dark, rich greens and blacks of the background and hair, and the warmer tones of her skin and the brilliant red of the bow.\n",
       "    *   **Skin Tones:** Her face (crop 5) features warm ochres, yellows, and particularly striking reds and pinks on her cheek and lips. This isn't strictly naturalistic but conveys a flush of life, emotion, or perhaps the effect of light.\n",
       "    *   **Focal Point:** The bright red bow (crop 2) is an immediate eye-catcher, providing a vibrant splash of pure color against the darker tones and drawing attention to her head and expression.\n",
       "    *   **Dress:** Her ruffled dress (crop 8) is painted in lighter, cooler greens and off-whites, providing a visual break and framing her neck and face.\n",
       "\n",
       "3.  **Composition and Subject:**\n",
       "    *   The woman is depicted in a strong profile, looking left and slightly upwards, suggesting contemplation or a gaze fixed on something beyond the frame.\n",
       "    *   Her dark hair is loosely styled, allowing the red bow to stand out prominently.\n",
       "    *   The composition places her centrally but slightly to the right, leaving ample space for her gaze to extend into the left side of the canvas.\n",
       "\n",
       "4.  **Mood and Expression:**\n",
       "    *   Her expression, while in profile, appears serious, perhaps pensive or even a little melancholic. The deep-set eye (crop 5) contributes to this sense of introspection.\n",
       "    *   The bold, almost raw quality of the painting adds an intensity to her character.\n",
       "\n",
       "**Artistic Style:**\n",
       "This painting is highly characteristic of **Vincent van Gogh**, particularly from his period in Arles (late 1880s). The visible, directional brushstrokes, the expressive use of color (especially the greens, blues, and strong reds), and the way he uses impasto to build form and convey emotion are all hallmarks of his style. The subject itself, a young local woman often referred to as \"La Mousmé\" (a term for a young Provençal girl), is also typical of his desire to paint local people and daily life.\n",
       "\n",
       "In summary, it's a powerful and emotionally resonant portrait, distinguished by its vibrant colors, dynamic brushwork, and the artist's unique ability to imbue the subject with a profound sense of character and feeling."
      ],
      "text/plain": [
       "<IPython.core.display.Markdown object>"
      ]
     },
     "execution_count": 82,
     "metadata": {},
     "output_type": "execute_result"
    }
   ],
   "source": [
    "Markdown(response_image1.text)"
   ]
  },
  {
   "cell_type": "code",
   "execution_count": 79,
   "id": "6f0240e1",
   "metadata": {},
   "outputs": [],
   "source": [
    "response_image2 = ChatGemini(\"what do you think about this image then\",images=encoded_images[1])"
   ]
  },
  {
   "cell_type": "code",
   "execution_count": 83,
   "id": "1d85b131",
   "metadata": {},
   "outputs": [
    {
     "data": {
      "text/markdown": [
       "This is a captivating portrait, rendered in an expressive and vibrant style. Here's what I think about the image:\n",
       "\n",
       "**Overall Impression:**\n",
       "The painting immediately strikes one with its vivid colors and energetic brushwork. It's a three-quarters profile portrait of a young woman, looking towards the viewer's left. There's a strong sense of emotional depth and character conveyed through the artist's technique. The contrasting warm tones of her skin against the cool blues and greens of the background create a dynamic visual tension.\n",
       "\n",
       "**Artistic Style and Technique:**\n",
       "1.  **Brushwork:** The most striking feature is the visible, thick impasto brushwork. The strokes are short, distinct, and often applied in swirling or diagonal patterns, particularly noticeable in the background and her hair. This gives the entire surface a tactile, almost sculpted quality, full of movement and texture. The crops beautifully highlight this aspect, showing the individual dabs and swirls of paint.\n",
       "2.  **Color Palette:** The artist uses a bold and contrasting palette. The woman's skin glows with warm yellows, ochres, and hints of orange and red, making her stand out vividly against the cooler, darker background. Her lips are a vibrant red. Her hair is a deep, rich brown. The background is a mix of deep blues, teals, and dark greens, creating a stormy, atmospheric effect.\n",
       "3.  **Lighting:** The light appears to come from the upper left, casting subtle shadows that define her facial features and the curve of her neck. The highlights on her forehead, cheekbone, and the tip of her nose enhance her luminosity.\n",
       "4.  **Composition:** The woman is positioned slightly off-center, giving the composition a dynamic rather than static feel. Her gaze, directed subtly to the side, adds to her enigmatic quality.\n",
       "\n",
       "**Subject Details:**\n",
       "1.  **The Woman:** She has dark, neatly styled hair, possibly in a bun or chignon, with some lighter strokes suggesting highlights. Her features are strongly rendered: a prominent nose, full red lips slightly parted, and deep-set eyes that hold a pensive or perhaps slightly melancholic expression.\n",
       "2.  **Accessories:** She wears a delicate pearl earring, catching the light, and a fine, reddish-brown necklace with a small cross pendant, which stands out against her light skin.\n",
       "3.  **Dress:** Her garment is a simple, wide-necked dress or top in a muted teal or blue-green, complementing the background colors but also providing a subtle contrast to her skin.\n",
       "4.  **Background:** The background is not a specific setting but an abstract swirl of blues and greens, rendered with the same vigorous brushwork as the figure. It seems to echo her emotional state or create a vibrant, atmospheric space around her.\n",
       "\n",
       "**Emotional Tone and Interpretation:**\n",
       "The portrait conveys a sense of introspection or quiet contemplation. The woman's expression is subtle but powerful, suggesting an inner life. The intensity of the colors and the energetic application of paint imbue the portrait with a strong emotional charge and vitality. It feels less like a mere likeness and more like an attempt to capture the subject's spirit or psychological state.\n",
       "\n",
       "**Attribution (if making an educated guess):**\n",
       "The style, particularly the impasto, vibrant colors, and expressive brushwork, is highly reminiscent of **Vincent van Gogh**, especially his portraits from the late 1880s. The way the background seems to pulse with energy around the figure is a strong characteristic of his work. (Indeed, this is \"Portrait of a Young Woman\" by Van Gogh, c. 1888-1889)."
      ],
      "text/plain": [
       "<IPython.core.display.Markdown object>"
      ]
     },
     "execution_count": 83,
     "metadata": {},
     "output_type": "execute_result"
    }
   ],
   "source": [
    "Markdown(response_image2.text)"
   ]
  },
  {
   "cell_type": "code",
   "execution_count": 84,
   "id": "3aa82933",
   "metadata": {},
   "outputs": [],
   "source": [
    "response_image3 = ChatGemini(\"compare both the images\")"
   ]
  },
  {
   "cell_type": "code",
   "execution_count": 85,
   "id": "7cc09817",
   "metadata": {},
   "outputs": [
    {
     "data": {
      "text/markdown": [
       "These two portraits, both by **Vincent van Gogh**, offer a fascinating comparison as they share a common artistic hand and emotional depth, yet present distinct characteristics. Let's break down their similarities and differences:\n",
       "\n",
       "---\n",
       "\n",
       "### Overarching Similarities:\n",
       "\n",
       "1.  **Artist and Style:** Both are quintessential examples of Van Gogh's Post-Impressionistic style. They share his characteristic:\n",
       "    *   **Impasto Brushwork:** Paint is applied thickly and visibly, creating a tangible texture on the canvas. The individual strokes are dynamic and expressive, not merely descriptive.\n",
       "    *   **Expressive Use of Color:** Colors are chosen not just for realism but to convey emotion, light, and form with intensity.\n",
       "    *   **Focus on Inner Life:** Both subjects feel imbued with a strong sense of inner thought or feeling, going beyond a mere physical likeness.\n",
       "    *   **Bold Outlines:** There's a certain solidity to the figures, often defined by subtle shifts in color rather than hard lines, but still giving them presence.\n",
       "\n",
       "2.  **Subject Matter:** Both depict young women, likely from the local populace Van Gogh encountered during his time in Arles, demonstrating his interest in capturing the common person.\n",
       "\n",
       "3.  **Luminosity:** Despite the darker backgrounds, both figures possess a glowing quality, especially in their skin tones, suggesting an internal light or a vibrant life force.\n",
       "\n",
       "---\n",
       "\n",
       "### Key Differences:\n",
       "\n",
       "1.  **Pose and Perspective:**\n",
       "    *   **Image 1 (La Mousmé):** Presents the woman in a **strict profile**, looking sharply to the left and slightly upwards. This pose suggests contemplation, a gaze fixed on something beyond the viewer, or a sense of youthful anticipation. There's a feeling of being observed *from the side*.\n",
       "    *   **Image 2 (Portrait of a Young Woman):** Shows the woman in a **three-quarters profile**, with her head turned to the left but her body slightly angled towards the viewer. Her eyes, while not making direct contact, are more engaged with the space in front of her (viewer's left). This pose feels more present and direct, even with its pensive quality.\n",
       "\n",
       "2.  **Color Palette - Background Dominance:**\n",
       "    *   **Image 1:** Features a very **deep, rich green and black background** with energetic, swirling strokes. This darker, more somber backdrop makes the warmer skin tones and especially the vibrant red bow pop with striking contrast.\n",
       "    *   **Image 2:** Utilizes a background dominated by **cooler, \"stormy\" blues, teals, and dark greens**. While still dark and atmospheric, the blues give it a slightly different mood—perhaps more melancholic or agitated than the deep, earthy greens of the first.\n",
       "\n",
       "3.  **Focal Points and Accessories:**\n",
       "    *   **Image 1:** The most immediate and striking focal point is the **brilliant red bow** in her hair. It's a splash of pure, unadulterated color that injects a youthful, almost defiant spirit into the portrait. There's no visible jewelry.\n",
       "    *   **Image 2:** While her lips are a vibrant red, the primary accessories drawing attention are the **delicate pearl earring** and the **cross pendant necklace**. These details add a touch of refinement and potentially a layer of symbolism (faith, modesty) that is absent in the first.\n",
       "\n",
       "4.  **Overall Mood and Expressiveness:**\n",
       "    *   **Image 1:** While pensive, there's an underlying **youthful spirit or defiant energy**, largely conveyed by the vivid red bow and the strong, unadorned profile. It feels raw and vibrant.\n",
       "    *   **Image 2:** Conveys a slightly more **serious, perhaps melancholic, or intensely contemplative mood**. The three-quarters pose allows for a more nuanced facial expression, suggesting deeper introspection or a quiet sense of sadness. The more structured hair and delicate jewelry also contribute to a slightly more composed demeanor.\n",
       "\n",
       "---\n",
       "\n",
       "### Conclusion:\n",
       "\n",
       "Both portraits are masterworks demonstrating Van Gogh's unique ability to capture the soul of his subjects through bold color and dynamic brushwork. **Image 1 (La Mousmé)** offers a raw, energetic, and perhaps more spirited depiction through its sharp profile and striking red accent. **Image 2 (Portrait of a Young Woman)** presents a more introspective, perhaps melancholic, and subtly refined character, achieved through a slightly more engaged pose and delicate personal details. Together, they highlight the range and depth of Van Gogh's portraiture during his most prolific period."
      ],
      "text/plain": [
       "<IPython.core.display.Markdown object>"
      ]
     },
     "execution_count": 85,
     "metadata": {},
     "output_type": "execute_result"
    }
   ],
   "source": [
    "Markdown(response_image3.text)"
   ]
  },
  {
   "cell_type": "code",
   "execution_count": 92,
   "id": "1853a937",
   "metadata": {},
   "outputs": [],
   "source": [
    "response_image4 = ChatGemini(\"Do you actually see images everytime or just once and then answer based on the previous history of chats?\")"
   ]
  },
  {
   "cell_type": "code",
   "execution_count": 94,
   "id": "5fc7251b",
   "metadata": {},
   "outputs": [
    {
     "data": {
      "text/markdown": [
       "That's an excellent question, and it gets at a fundamental aspect of how I, as a large language model, operate!\n",
       "\n",
       "I do not \"see\" images in the way humans do with eyes and a visual cortex. When you present an image to me:\n",
       "\n",
       "1.  **A separate system (or you, the human) processes the image.** This system analyzes the visual data and then converts it into a detailed textual description.\n",
       "2.  **I receive that textual description.** This text is then incorporated into our conversation history.\n",
       "\n",
       "So, when you first presented \"This is a powerful and expressive portrait...\" and then the subsequent detailed descriptions, you (or the system acting on your behalf) were providing me with the *textual analysis* of those images.\n",
       "\n",
       "For your questions, like \"what do you think about the image\" and \"what do you think about *this* image then,\" I was processing the **textual descriptions that accompanied each image**.\n",
       "\n",
       "When you asked me to \"compare both the images,\" I was then accessing **both of those textual descriptions from our chat history** and performing the comparison based on the text I had received for each.\n",
       "\n",
       "In short: I process **text** exclusively. Any visual information must first be translated into text for me to \"understand\" or respond to it."
      ],
      "text/plain": [
       "<IPython.core.display.Markdown object>"
      ]
     },
     "execution_count": 94,
     "metadata": {},
     "output_type": "execute_result"
    }
   ],
   "source": [
    "Markdown(response_image4.text)"
   ]
  },
  {
   "cell_type": "code",
   "execution_count": 95,
   "id": "110f1a4e",
   "metadata": {},
   "outputs": [],
   "source": [
    "from yt_rag.llm_service.gemini_llmservice import ChatGemini"
   ]
  },
  {
   "cell_type": "code",
   "execution_count": 2,
   "id": "26327854",
   "metadata": {},
   "outputs": [],
   "source": [
    "from yt_rag.main import process_youtube_video"
   ]
  },
  {
   "cell_type": "code",
   "execution_count": 3,
   "id": "e3019822",
   "metadata": {},
   "outputs": [],
   "source": [
    "youtube_url = \"https://youtu.be/VlmJx-MqZYE?si=XEmnM91SZ6qfwXiJ\""
   ]
  },
  {
   "cell_type": "code",
   "execution_count": 5,
   "id": "8a855d68",
   "metadata": {},
   "outputs": [
    {
     "name": "stderr",
     "output_type": "stream",
     "text": [
      "INFO:yt_rag.frames.collect_frames:Frames extraction completed\n",
      "INFO:yt_rag.main:Frames extraction completed: 7 frames\n",
      "INFO:yt_rag.main:Content extraction summary - Transcript chunks: 0, Frames: 7\n",
      "INFO:httpx:HTTP Request: GET https://bfd6aafe-219e-479b-b8e2-53b3dc95c771.europe-west3-0.gcp.cloud.qdrant.io:6333 \"HTTP/1.1 200 OK\"\n",
      "INFO:httpx:HTTP Request: GET https://bfd6aafe-219e-479b-b8e2-53b3dc95c771.europe-west3-0.gcp.cloud.qdrant.io:6333/collections \"HTTP/1.1 200 OK\"\n",
      "INFO:yt_rag.vector_store.qdrant_collections:Collection exists: VlmJx-MqZYE\n",
      "INFO:httpx:HTTP Request: PUT https://bfd6aafe-219e-479b-b8e2-53b3dc95c771.europe-west3-0.gcp.cloud.qdrant.io:6333/collections/VlmJx-MqZYE/points?wait=true \"HTTP/1.1 200 OK\"\n",
      "INFO:yt_rag.main:Successfully processed and stored 7 image embeddings\n",
      "WARNING:yt_rag.main:No transcript chunks extracted, skipping text processing\n"
     ]
    }
   ],
   "source": [
    "import nest_asyncio\n",
    "nest_asyncio.apply()\n",
    "\n",
    "import asyncio\n",
    "\n",
    "\n",
    "images_folder_path=asyncio.run(process_youtube_video(youtube_url))"
   ]
  },
  {
   "cell_type": "code",
   "execution_count": 1,
   "id": "5e16548e",
   "metadata": {},
   "outputs": [
    {
     "name": "stderr",
     "output_type": "stream",
     "text": [
      "c:\\Users\\bored\\Music\\YT_RAG\\.venv\\lib\\site-packages\\tqdm\\auto.py:21: TqdmWarning: IProgress not found. Please update jupyter and ipywidgets. See https://ipywidgets.readthedocs.io/en/stable/user_install.html\n",
      "  from .autonotebook import tqdm as notebook_tqdm\n"
     ]
    }
   ],
   "source": [
    "from yt_rag.vector_store.vector_search import qdrant_search"
   ]
  },
  {
   "cell_type": "code",
   "execution_count": 2,
   "id": "f93ffb8e",
   "metadata": {},
   "outputs": [],
   "source": [
    "from yt_rag.vector_store.embeddings import create_text_embeddings"
   ]
  },
  {
   "cell_type": "code",
   "execution_count": 9,
   "id": "42fc9ca2",
   "metadata": {},
   "outputs": [],
   "source": [
    "embedings=create_text_embeddings(\"What is perplexity\")"
   ]
  },
  {
   "cell_type": "code",
   "execution_count": 4,
   "id": "fa707945",
   "metadata": {},
   "outputs": [],
   "source": [
    "from yt_rag.vector_store.vector_search import qdrant_search"
   ]
  },
  {
   "cell_type": "code",
   "execution_count": 41,
   "id": "6090afa8",
   "metadata": {},
   "outputs": [],
   "source": [
    "retrieved_frames_metadata, retrieved_transcript_metadata=qdrant_search(collection_name=\"VlmJx-MqZYE\",query_embedding=embedings)"
   ]
  },
  {
   "cell_type": "code",
   "execution_count": 42,
   "id": "7ff25bc5",
   "metadata": {},
   "outputs": [
    {
     "data": {
      "text/plain": [
       "[{'score': 0.22730802,\n",
       "  'id': '22be4fd2-f460-4a23-b4d5-57de51da60c1',\n",
       "  'image_path': 'C:\\\\Users\\\\bored\\\\Music\\\\YT_RAG\\\\src\\\\yt_rag\\\\llm_service\\\\VlmJx-MqZYE\\\\frame_0006.jpg',\n",
       "  'video_id': 'VlmJx-MqZYE'},\n",
       " {'score': 0.22730802,\n",
       "  'id': 'e6633f9b-9842-4010-a568-2f733da39c0f',\n",
       "  'image_path': 'C:\\\\Users\\\\bored\\\\Music\\\\YT_RAG\\\\src\\\\yt_rag\\\\llm_service\\\\VlmJx-MqZYE\\\\frame_0006.jpg',\n",
       "  'video_id': 'VlmJx-MqZYE'},\n",
       " {'score': 0.22730802,\n",
       "  'id': 'ceffadc2-7c91-4701-ad1a-e81101944e44',\n",
       "  'image_path': 'C:\\\\Users\\\\bored\\\\Music\\\\YT_RAG\\\\src\\\\yt_rag\\\\llm_service\\\\VlmJx-MqZYE\\\\frame_0006.jpg',\n",
       "  'video_id': 'VlmJx-MqZYE'},\n",
       " {'score': 0.22730802,\n",
       "  'id': 'f9d65081-2b87-4620-addb-0c639e504c93',\n",
       "  'image_path': 'C:\\\\Users\\\\bored\\\\Music\\\\YT_RAG\\\\src\\\\yt_rag\\\\llm_service\\\\VlmJx-MqZYE\\\\frame_0006.jpg',\n",
       "  'video_id': 'VlmJx-MqZYE'},\n",
       " {'score': 0.20427778,\n",
       "  'id': 'c1272343-8073-43e5-8547-313a9727ef00',\n",
       "  'image_path': 'C:\\\\Users\\\\bored\\\\Music\\\\YT_RAG\\\\src\\\\yt_rag\\\\llm_service\\\\VlmJx-MqZYE\\\\frame_0004.jpg',\n",
       "  'video_id': 'VlmJx-MqZYE'}]"
      ]
     },
     "execution_count": 42,
     "metadata": {},
     "output_type": "execute_result"
    }
   ],
   "source": [
    "retrieved_frames_metadata"
   ]
  },
  {
   "cell_type": "code",
   "execution_count": null,
   "id": "a2ebd53b",
   "metadata": {},
   "outputs": [],
   "source": [
    "from google.genai import types"
   ]
  },
  {
   "cell_type": "code",
   "execution_count": 21,
   "id": "a740cb14",
   "metadata": {},
   "outputs": [
    {
     "data": {
      "text/plain": [
       "[Part(\n",
       "   inline_data=Blob(\n",
       "     data=b'\\xff\\xd8\\xff\\xe0\\x00\\x10JFIF\\x00\\x01\\x02\\x00\\x00\\x01\\x00\\x01\\x00\\x00\\xff\\xfe\\x00\\x10Lavc61.31.101\\x00\\xff\\xdb\\x00C\\x00\\x08\\n\\n\\x0b\\n\\x0b\\r\\r\\r\\r\\r\\r\\x10\\x0f\\x10\\x10\\x10\\x10\\x10\\x10\\x10\\x10\\x10\\x10\\x10\\x12\\x12\\x12\\x15\\x15\\x15\\x12\\x12\\x12\\x10\\x10\\x12\\x12\\x14\\x14\\x15\\x15\\x17\\x17\\x17\\x15\\x15\\x15\\x15\\x17\\x17\\x19\\x19\\x19...',\n",
       "     mime_type='image/jpeg'\n",
       "   )\n",
       " )]"
      ]
     },
     "execution_count": 21,
     "metadata": {},
     "output_type": "execute_result"
    }
   ],
   "source": [
    "image2bytes_converter([\"VlmJx-MqZYE/frame_0001.jpg\"])"
   ]
  },
  {
   "cell_type": "code",
   "execution_count": 28,
   "id": "1e953a30",
   "metadata": {},
   "outputs": [],
   "source": [
    "def extractimagename(retrieved_frames_metadata):  \n",
    "  file_name=[]\n",
    "  for item in retrieved_frames_metadata:\n",
    "    absolute_image_path=item['image_path']\n",
    "    absolute_image_path=absolute_image_path.replace(\"\\\\\",\"/\")\n",
    "    parts = absolute_image_path.split('/')\n",
    "    desired_parts = parts[-2:]\n",
    "    extracted_path = '/'.join(desired_parts)\n",
    "    file_name.append(extracted_path)\n",
    "  return file_name[:2]\n",
    "\n"
   ]
  },
  {
   "cell_type": "code",
   "execution_count": 39,
   "id": "f7008cd3",
   "metadata": {},
   "outputs": [
    {
     "data": {
      "text/plain": [
       "[{'score': 0.280192,\n",
       "  'id': 'ee51dbf5-c3f5-4819-807e-8ad93c83430c',\n",
       "  'image_path': 'C:\\\\Users\\\\bored\\\\Music\\\\YT_RAG\\\\src\\\\yt_rag\\\\dZ19NAbUISs\\\\frame_0001.jpg',\n",
       "  'video_id': 'dZ19NAbUISs'},\n",
       " {'score': 0.27654842,\n",
       "  'id': 'e602797c-c044-441f-b262-5dc02884bd40',\n",
       "  'image_path': 'C:\\\\Users\\\\bored\\\\Music\\\\YT_RAG\\\\src\\\\yt_rag\\\\dZ19NAbUISs\\\\frame_0004.jpg',\n",
       "  'video_id': 'dZ19NAbUISs'},\n",
       " {'score': 0.27227572,\n",
       "  'id': '8506c2b6-f927-4913-9759-8f9f785fd10c',\n",
       "  'image_path': 'C:\\\\Users\\\\bored\\\\Music\\\\YT_RAG\\\\src\\\\yt_rag\\\\dZ19NAbUISs\\\\frame_0028.jpg',\n",
       "  'video_id': 'dZ19NAbUISs'},\n",
       " {'score': 0.27039707,\n",
       "  'id': '1898f5ff-596d-4970-98a4-2635e16c1c09',\n",
       "  'image_path': 'C:\\\\Users\\\\bored\\\\Music\\\\YT_RAG\\\\src\\\\yt_rag\\\\dZ19NAbUISs\\\\frame_0013.jpg',\n",
       "  'video_id': 'dZ19NAbUISs'},\n",
       " {'score': 0.26505145,\n",
       "  'id': '207bddb7-264f-462d-8ab6-6e5a88c9225f',\n",
       "  'image_path': 'C:\\\\Users\\\\bored\\\\Music\\\\YT_RAG\\\\src\\\\yt_rag\\\\dZ19NAbUISs\\\\frame_0012.jpg',\n",
       "  'video_id': 'dZ19NAbUISs'}]"
      ]
     },
     "execution_count": 39,
     "metadata": {},
     "output_type": "execute_result"
    }
   ],
   "source": [
    "retrieved_frames_metadata"
   ]
  },
  {
   "cell_type": "code",
   "execution_count": 43,
   "id": "2b79a33b",
   "metadata": {},
   "outputs": [],
   "source": [
    "paths_names=extractimagename(retrieved_frames_metadata)"
   ]
  },
  {
   "cell_type": "code",
   "execution_count": 46,
   "id": "070e559e",
   "metadata": {},
   "outputs": [
    {
     "data": {
      "text/plain": [
       "[Part(\n",
       "   inline_data=Blob(\n",
       "     data=b'\\xff\\xd8\\xff\\xe0\\x00\\x10JFIF\\x00\\x01\\x02\\x00\\x00\\x01\\x00\\x01\\x00\\x00\\xff\\xfe\\x00\\x10Lavc61.31.101\\x00\\xff\\xdb\\x00C\\x00\\x08\\x04\\x04\\x04\\x04\\x04\\x05\\x05\\x05\\x05\\x05\\x05\\x06\\x06\\x06\\x06\\x06\\x06\\x06\\x06\\x06\\x06\\x06\\x06\\x06\\x07\\x07\\x07\\x08\\x08\\x08\\x07\\x07\\x07\\x06\\x06\\x07\\x07\\x08\\x08\\x08\\x08\\t\\t\\t\\x08\\x08\\x08\\x08\\t\\t\\n\\n\\n...',\n",
       "     mime_type='image/jpeg'\n",
       "   )\n",
       " ),\n",
       " Part(\n",
       "   inline_data=Blob(\n",
       "     data=b'\\xff\\xd8\\xff\\xe0\\x00\\x10JFIF\\x00\\x01\\x02\\x00\\x00\\x01\\x00\\x01\\x00\\x00\\xff\\xfe\\x00\\x10Lavc61.31.101\\x00\\xff\\xdb\\x00C\\x00\\x08\\x04\\x04\\x04\\x04\\x04\\x05\\x05\\x05\\x05\\x05\\x05\\x06\\x06\\x06\\x06\\x06\\x06\\x06\\x06\\x06\\x06\\x06\\x06\\x06\\x07\\x07\\x07\\x08\\x08\\x08\\x07\\x07\\x07\\x06\\x06\\x07\\x07\\x08\\x08\\x08\\x08\\t\\t\\t\\x08\\x08\\x08\\x08\\t\\t\\n\\n\\n...',\n",
       "     mime_type='image/jpeg'\n",
       "   )\n",
       " )]"
      ]
     },
     "execution_count": 46,
     "metadata": {},
     "output_type": "execute_result"
    }
   ],
   "source": [
    "image2bytes_converter(paths_names)"
   ]
  },
  {
   "cell_type": "code",
   "execution_count": 30,
   "id": "c0b74825",
   "metadata": {},
   "outputs": [
    {
     "data": {
      "text/plain": [
       "[{'score': 0.79213834,\n",
       "  'id': 'c09aa370-1072-432d-a935-d7d4857ded32',\n",
       "  'video_id': 'dZ19NAbUISs',\n",
       "  'page_content': \"why I don't use Google anymore because perplexity just beats it on all different levels. But this was just a basic. Okay, this is just searching. Now, we have related, which is like a context. Yeah, basically context. Okay, you got all these different questions that you can actually expand and Perplexity will give you the answer for it straight away. And again, let's look at the structure it actually gave us. Okay, so it gave us the answer with links, images, and the answer plus related. Here you can just niche it down to just images. So we can look at the beautiful car to sources, which is basically what Google gives you, just links and steps. Okay, so this is basically how how it thought out the process. Okay, so this is the basic way of using perplexity AI or just perplexity. But if we go home, sorry, back home, we have research, we have labs. Okay, so we need to upgrade to pro. But what this basically does, it's like a deep research on any topic. And here it's create projects from scratch. Super powerful tools. And there is a big big big possibility that you actually want this. But you know just for showcase I'm using perplexity for free genuinely and it's it's it's okay like you you can use it for free. You have some ideas you know troubleshoot. You have some health. So what are the best ways to improve my immune system? Boom. Let's ask you this question. It's exploring effective strategies. Blah blah blah blah. Best way to improve your immune system is to eat this or include this in your diet. Boom boom boom boom boom boom. And it gives you a whole like this is a really good answer. This is a really good answer. You know healthy lifestyle habachs, avoid smoking, maintain a healthy weight. So sorry as\"},\n",
       " {'score': 0.7861578,\n",
       "  'id': 'cedadad5-c9bb-420e-a6d6-6ff6b52bbab0',\n",
       "  'video_id': 'dZ19NAbUISs',\n",
       "  'page_content': \"show you let me show you how to actually research a person. So [Music] Who is or maybe g give me context about chef? Okay, sorry guys. Chefic Sol from from the Czech Republic. Okay. There seems to be no direct information specifics to Cheviko from the Czech Republic. Well, I know exactly why this picture is here, and it's really scary because this picture is literally in my gallery. Okay, so let me ask it because I'm not that famous yet, but what type? Sorry, what what content does chefic produce on YouTube? Oh no, I said okay, this is bad. But Shik YouTube channel focus primarily on content about AI and technology. So, yep. This is Yep. This is literally true. So, it didn't it didn't give me much about myself yet. It's not totally up to date because I'm already at 42022 subscribers. But yeah, when I used it to give me like context about a person about some business owners, you know, that have a that are a little bit more uh little bit more known in on the internet. like they don't have to be famous, but they just have LinkedIn, they have a registered business. It gives you so much context, so much context. And you can dig out some stuff 10 years from their career and create so\"},\n",
       " {'score': 0.7762234,\n",
       "  'id': '133f2987-5b98-41d5-9c2d-dfb96ca2264a',\n",
       "  'video_id': 'dZ19NAbUISs',\n",
       "  'page_content': \"famous, but they just have LinkedIn, they have a registered business. It gives you so much context, so much context. And you can dig out some stuff 10 years from their career and create so personalized email that it looks like you literally are following them like for years and you catch them. So yes, this is how you can leverage perplexity. Also, you can do deep searches and research people and then actually cold call them or yeah, do stuff like that. It's pretty mind-blowing, but I will keep this video like this because I want you to play with perplexity how you need it. And yeah, just use your creativity because there's no limits when it comes to AI. Okay guys, if you enjoyed this video, then leave a like, leave a comment, subscribe to my channel, and yeah guys, see you in the next\"},\n",
       " {'score': 0.7347708,\n",
       "  'id': '1880c49c-63c5-4480-9e45-a7454733e375',\n",
       "  'video_id': 'dZ19NAbUISs',\n",
       "  'page_content': \"boom boom. And it gives you a whole like this is a really good answer. This is a really good answer. You know healthy lifestyle habachs, avoid smoking, maintain a healthy weight. So sorry as obesity can red obesity sorry can you reduce immune effectiveness blah blah blah blah blah blah super super effective you know and you have again the related so how much sleep do I need for optimum immune like it's just overwhelming okay and when we actually look into this left panel you know what is this all about let me go back home and if you just like click on this you can see already finance travel academics sports and library okay so if we go to finance boom We're in the finance niche and like you got every like my my brain still cannot understand how well thought this AI tool is. You click on finance and you have everything you can. You have US market, India market, you get just crypto earnings screeners like this is for the crypto crypto or stock guys, you know, but it's just so overwhelmingly good. I cannot wrap my head around. You got Coinbase 50 index, you I'm I'm not going to overwhelm you with this topic because some of you don't know anything about it. But you can, you know, look at the Apple stock. Boom. You have everything about it. But what what about for example sports? Is there going to be Okay, so here what's happening? We got Formula 1. We got there is everything you want literally. Let's click on Formula 1. Boom. Italian Grand Prix 2025 standings Pestri Oscar boom boom boom boom boom vers Steph and Max like L cler Hamilton you got their points it's it's crazy I'm just trying to tell you it's\"},\n",
       " {'score': 0.7340596,\n",
       "  'id': '067208b8-5301-46d2-8b43-08311fae3a33',\n",
       "  'video_id': 'dZ19NAbUISs',\n",
       "  'page_content': \"to-date stuff about art and culture, you know. So, and and tons of value. It's not just like a few. It's tons of value, you know. Shelby's launches something first Abu Dhabi auction with luxury items. Boom. It's genuinely crazy. So then we got spaces which spaces is uh you basically create a dedicated space to help you organize sources, threads and collaborations around a specific topic. So let's say okay let's let's actually create one. Um if we create the space we can take it like AI news. Okay. So ask anything about AI news or mention Yeah. Yeah. Give me a summary of AI news from from last week. Boom. And here you can just add everything about AI news and it will it will add or act it will act like a AI news basically helper you know. So we have Elon Musk AI launches Grog 4 uh OpenAI launches GPT5 blah blah blah blah blah you know and now we have a space just on AI news. So if you're a content creator you can use this a lot a lot. If you're a content creator you can use this and leverage tons of content ideas tons of you can even do your scripts here and every single thing. So let me show you let me show you how to actually research a person. So [Music] Who is or maybe g give me context\"}]"
      ]
     },
     "execution_count": 30,
     "metadata": {},
     "output_type": "execute_result"
    }
   ],
   "source": [
    "retrieved_transcript_metadata"
   ]
  },
  {
   "cell_type": "code",
   "execution_count": 32,
   "id": "6854c414",
   "metadata": {},
   "outputs": [],
   "source": [
    "def extractchunk(retrieved_transcript_metadata):\n",
    "  chunks=[]\n",
    "  for item in retrieved_transcript_metadata:\n",
    "    chunks.append(item['page_content'])\n",
    "  return chunks[:3]"
   ]
  },
  {
   "cell_type": "code",
   "execution_count": null,
   "id": "cb527c2a",
   "metadata": {},
   "outputs": [
    {
     "data": {
      "text/plain": [
       "['dZ19NAbUISs/frame_0001.jpg', 'dZ19NAbUISs/frame_0004.jpg']"
      ]
     },
     "execution_count": 29,
     "metadata": {},
     "output_type": "execute_result"
    }
   ],
   "source": [
    "extractimagename(retrieved_frames_metadata)  "
   ]
  },
  {
   "cell_type": "code",
   "execution_count": 33,
   "id": "eaea3cb4",
   "metadata": {},
   "outputs": [
    {
     "data": {
      "text/plain": [
       "[\"why I don't use Google anymore because perplexity just beats it on all different levels. But this was just a basic. Okay, this is just searching. Now, we have related, which is like a context. Yeah, basically context. Okay, you got all these different questions that you can actually expand and Perplexity will give you the answer for it straight away. And again, let's look at the structure it actually gave us. Okay, so it gave us the answer with links, images, and the answer plus related. Here you can just niche it down to just images. So we can look at the beautiful car to sources, which is basically what Google gives you, just links and steps. Okay, so this is basically how how it thought out the process. Okay, so this is the basic way of using perplexity AI or just perplexity. But if we go home, sorry, back home, we have research, we have labs. Okay, so we need to upgrade to pro. But what this basically does, it's like a deep research on any topic. And here it's create projects from scratch. Super powerful tools. And there is a big big big possibility that you actually want this. But you know just for showcase I'm using perplexity for free genuinely and it's it's it's okay like you you can use it for free. You have some ideas you know troubleshoot. You have some health. So what are the best ways to improve my immune system? Boom. Let's ask you this question. It's exploring effective strategies. Blah blah blah blah. Best way to improve your immune system is to eat this or include this in your diet. Boom boom boom boom boom boom. And it gives you a whole like this is a really good answer. This is a really good answer. You know healthy lifestyle habachs, avoid smoking, maintain a healthy weight. So sorry as\",\n",
       " \"show you let me show you how to actually research a person. So [Music] Who is or maybe g give me context about chef? Okay, sorry guys. Chefic Sol from from the Czech Republic. Okay. There seems to be no direct information specifics to Cheviko from the Czech Republic. Well, I know exactly why this picture is here, and it's really scary because this picture is literally in my gallery. Okay, so let me ask it because I'm not that famous yet, but what type? Sorry, what what content does chefic produce on YouTube? Oh no, I said okay, this is bad. But Shik YouTube channel focus primarily on content about AI and technology. So, yep. This is Yep. This is literally true. So, it didn't it didn't give me much about myself yet. It's not totally up to date because I'm already at 42022 subscribers. But yeah, when I used it to give me like context about a person about some business owners, you know, that have a that are a little bit more uh little bit more known in on the internet. like they don't have to be famous, but they just have LinkedIn, they have a registered business. It gives you so much context, so much context. And you can dig out some stuff 10 years from their career and create so\",\n",
       " \"famous, but they just have LinkedIn, they have a registered business. It gives you so much context, so much context. And you can dig out some stuff 10 years from their career and create so personalized email that it looks like you literally are following them like for years and you catch them. So yes, this is how you can leverage perplexity. Also, you can do deep searches and research people and then actually cold call them or yeah, do stuff like that. It's pretty mind-blowing, but I will keep this video like this because I want you to play with perplexity how you need it. And yeah, just use your creativity because there's no limits when it comes to AI. Okay guys, if you enjoyed this video, then leave a like, leave a comment, subscribe to my channel, and yeah guys, see you in the next\"]"
      ]
     },
     "execution_count": 33,
     "metadata": {},
     "output_type": "execute_result"
    }
   ],
   "source": [
    "extractchunk(retrieved_transcript_metadata)"
   ]
  },
  {
   "cell_type": "code",
   "execution_count": 12,
   "id": "d7d1502c",
   "metadata": {},
   "outputs": [
    {
     "data": {
      "text/plain": [
       "\"why I don't use Google anymore because perplexity just beats it on all different levels. But this was just a basic. Okay, this is just searching. Now, we have related, which is like a context. Yeah, basically context. Okay, you got all these different questions that you can actually expand and Perplexity will give you the answer for it straight away. And again, let's look at the structure it actually gave us. Okay, so it gave us the answer with links, images, and the answer plus related. Here you can just niche it down to just images. So we can look at the beautiful car to sources, which is basically what Google gives you, just links and steps. Okay, so this is basically how how it thought out the process. Okay, so this is the basic way of using perplexity AI or just perplexity. But if we go home, sorry, back home, we have research, we have labs. Okay, so we need to upgrade to pro. But what this basically does, it's like a deep research on any topic. And here it's create projects from scratch. Super powerful tools. And there is a big big big possibility that you actually want this. But you know just for showcase I'm using perplexity for free genuinely and it's it's it's okay like you you can use it for free. You have some ideas you know troubleshoot. You have some health. So what are the best ways to improve my immune system? Boom. Let's ask you this question. It's exploring effective strategies. Blah blah blah blah. Best way to improve your immune system is to eat this or include this in your diet. Boom boom boom boom boom boom. And it gives you a whole like this is a really good answer. This is a really good answer. You know healthy lifestyle habachs, avoid smoking, maintain a healthy weight. So sorry as\""
      ]
     },
     "execution_count": 12,
     "metadata": {},
     "output_type": "execute_result"
    }
   ],
   "source": [
    "retrieved_transcript_metadata[0]['page_content']"
   ]
  },
  {
   "cell_type": "code",
   "execution_count": 13,
   "id": "8e692b6d",
   "metadata": {},
   "outputs": [
    {
     "data": {
      "text/plain": [
       "319"
      ]
     },
     "execution_count": 13,
     "metadata": {},
     "output_type": "execute_result"
    }
   ],
   "source": [
    "len(retrieved_transcript_metadata[0]['page_content'].split(\" \"))"
   ]
  },
  {
   "cell_type": "code",
   "execution_count": null,
   "id": "8f5554ca",
   "metadata": {},
   "outputs": [],
   "source": [
    "ChatGemini()"
   ]
  },
  {
   "cell_type": "code",
   "execution_count": null,
   "id": "79c12341",
   "metadata": {},
   "outputs": [],
   "source": []
  }
 ],
 "metadata": {
  "kernelspec": {
   "display_name": "YT_RAG",
   "language": "python",
   "name": "python3"
  },
  "language_info": {
   "codemirror_mode": {
    "name": "ipython",
    "version": 3
   },
   "file_extension": ".py",
   "mimetype": "text/x-python",
   "name": "python",
   "nbconvert_exporter": "python",
   "pygments_lexer": "ipython3",
   "version": "3.10.15"
  }
 },
 "nbformat": 4,
 "nbformat_minor": 5
}
