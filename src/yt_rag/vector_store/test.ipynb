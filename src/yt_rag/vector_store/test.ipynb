{
 "cells": [
  {
   "cell_type": "code",
   "execution_count": 1,
   "id": "83eb6b01",
   "metadata": {},
   "outputs": [
    {
     "name": "stderr",
     "output_type": "stream",
     "text": [
      "c:\\Users\\bored\\Music\\YT_RAG\\.venv\\lib\\site-packages\\tqdm\\auto.py:21: TqdmWarning: IProgress not found. Please update jupyter and ipywidgets. See https://ipywidgets.readthedocs.io/en/stable/user_install.html\n",
      "  from .autonotebook import tqdm as notebook_tqdm\n"
     ]
    }
   ],
   "source": [
    "from yt_rag.vector_store.embeddings import create_text_embeddings\n",
    "\n",
    "query = \"What is vector store and how to build it?\"\n",
    "\n",
    "query_embedding = create_text_embeddings(query)"
   ]
  },
  {
   "cell_type": "code",
   "execution_count": 3,
   "id": "d46b9867",
   "metadata": {},
   "outputs": [],
   "source": [
    "from yt_rag.vector_store.qdrant_db import get_qdrant_client"
   ]
  },
  {
   "cell_type": "code",
   "execution_count": 8,
   "id": "7eef3b4f",
   "metadata": {},
   "outputs": [],
   "source": [
    "qdrent_client=get_qdrant_client()"
   ]
  },
  {
   "cell_type": "code",
   "execution_count": 9,
   "id": "610aba90",
   "metadata": {},
   "outputs": [
    {
     "data": {
      "text/plain": [
       "CollectionsResponse(collections=[CollectionDescription(name='test_collection0.003'), CollectionDescription(name='Test_0.001'), CollectionDescription(name='Test_0.002'), CollectionDescription(name='t9mRf2S5vDI')])"
      ]
     },
     "execution_count": 9,
     "metadata": {},
     "output_type": "execute_result"
    }
   ],
   "source": [
    "qdrent_client.get_collections()"
   ]
  },
  {
   "cell_type": "code",
   "execution_count": 10,
   "id": "127ee809",
   "metadata": {},
   "outputs": [
    {
     "ename": "NameError",
     "evalue": "name 'query_embedding' is not defined",
     "output_type": "error",
     "traceback": [
      "\u001b[1;31m---------------------------------------------------------------------------\u001b[0m",
      "\u001b[1;31mNameError\u001b[0m                                 Traceback (most recent call last)",
      "Cell \u001b[1;32mIn[10], line 5\u001b[0m\n\u001b[0;32m      1\u001b[0m \u001b[38;5;28;01mfrom\u001b[39;00m\u001b[38;5;250m \u001b[39m\u001b[38;5;21;01myt_rag\u001b[39;00m\u001b[38;5;21;01m.\u001b[39;00m\u001b[38;5;21;01mvector_store\u001b[39;00m\u001b[38;5;21;01m.\u001b[39;00m\u001b[38;5;21;01mvector_search\u001b[39;00m\u001b[38;5;250m \u001b[39m\u001b[38;5;28;01mimport\u001b[39;00m qdrant_search\n\u001b[0;32m      3\u001b[0m frames_metadata, text_metadata \u001b[38;5;241m=\u001b[39m qdrant_search(\n\u001b[0;32m      4\u001b[0m     collection_name\u001b[38;5;241m=\u001b[39m\u001b[38;5;124m\"\u001b[39m\u001b[38;5;124mHt8ImZT6kJ0\u001b[39m\u001b[38;5;124m\"\u001b[39m,\n\u001b[1;32m----> 5\u001b[0m     query_embedding\u001b[38;5;241m=\u001b[39m\u001b[43mquery_embedding\u001b[49m,\n\u001b[0;32m      6\u001b[0m     top_k\u001b[38;5;241m=\u001b[39m\u001b[38;5;241m5\u001b[39m\n\u001b[0;32m      7\u001b[0m )\n\u001b[0;32m      9\u001b[0m \u001b[38;5;28mprint\u001b[39m(\u001b[38;5;124mf\u001b[39m\u001b[38;5;124m\"\u001b[39m\u001b[38;5;124mFound \u001b[39m\u001b[38;5;132;01m{\u001b[39;00m\u001b[38;5;28mlen\u001b[39m(frames_metadata)\u001b[38;5;132;01m}\u001b[39;00m\u001b[38;5;124m relevant frames\u001b[39m\u001b[38;5;124m\"\u001b[39m)\n\u001b[0;32m     10\u001b[0m \u001b[38;5;28mprint\u001b[39m(\u001b[38;5;124mf\u001b[39m\u001b[38;5;124m\"\u001b[39m\u001b[38;5;124mFound \u001b[39m\u001b[38;5;132;01m{\u001b[39;00m\u001b[38;5;28mlen\u001b[39m(text_metadata)\u001b[38;5;132;01m}\u001b[39;00m\u001b[38;5;124m relevant text chunks\u001b[39m\u001b[38;5;124m\"\u001b[39m)\n",
      "\u001b[1;31mNameError\u001b[0m: name 'query_embedding' is not defined"
     ]
    }
   ],
   "source": [
    "from yt_rag.vector_store.vector_search import qdrant_search\n",
    "\n",
    "frames_metadata, text_metadata = qdrant_search(\n",
    "    collection_name=\"Ht8ImZT6kJ0\",\n",
    "    query_embedding=query_embedding,\n",
    "    top_k=5\n",
    ")\n",
    "\n",
    "print(f\"Found {len(frames_metadata)} relevant frames\")\n",
    "print(f\"Found {len(text_metadata)} relevant text chunks\")\n",
    "\n",
    "if frames_metadata:\n",
    "    print(\"\\nTop frame results:\")\n",
    "    for frame in frames_metadata[:3]:\n",
    "        print(f\"Score: {frame['score']:.3f}, Path: {frame['image_path']}\")\n",
    "\n",
    "if text_metadata:\n",
    "    print(\"\\nTop text results:\")\n",
    "    for text in text_metadata[:3]:\n",
    "        print(f\"Score: {text['score']:.3f}, ID: {text['id']}, Start: {text.get('start_time', 'N/A')}\")\n"
   ]
  },
  {
   "cell_type": "code",
   "execution_count": null,
   "id": "edacd581",
   "metadata": {},
   "outputs": [],
   "source": []
  },
  {
   "cell_type": "code",
   "execution_count": null,
   "id": "a659f9e8",
   "metadata": {},
   "outputs": [],
   "source": []
  }
 ],
 "metadata": {
  "kernelspec": {
   "display_name": "YT_RAG",
   "language": "python",
   "name": "python3"
  },
  "language_info": {
   "codemirror_mode": {
    "name": "ipython",
    "version": 3
   },
   "file_extension": ".py",
   "mimetype": "text/x-python",
   "name": "python",
   "nbconvert_exporter": "python",
   "pygments_lexer": "ipython3",
   "version": "3.10.15"
  }
 },
 "nbformat": 4,
 "nbformat_minor": 5
}
