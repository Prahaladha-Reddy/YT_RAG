{
 "cells": [
  {
   "cell_type": "code",
   "execution_count": 1,
   "id": "83eb6b01",
   "metadata": {},
   "outputs": [
    {
     "name": "stderr",
     "output_type": "stream",
     "text": [
      "c:\\Users\\chebr\\OneDrive\\Documents\\YT_RAG\\.venv\\lib\\site-packages\\tqdm\\auto.py:21: TqdmWarning: IProgress not found. Please update jupyter and ipywidgets. See https://ipywidgets.readthedocs.io/en/stable/user_install.html\n",
      "  from .autonotebook import tqdm as notebook_tqdm\n"
     ]
    }
   ],
   "source": [
    "from yt_rag.vector_store.embeddings import create_text_embeddings\n",
    "\n",
    "query = \"What is vector store and how to build it?\"\n",
    "\n",
    "query_embedding = create_text_embeddings(query)\n",
    "\n",
    "\n",
    "\n"
   ]
  },
  {
   "cell_type": "code",
   "execution_count": 2,
   "id": "a5ddf172",
   "metadata": {},
   "outputs": [
    {
     "data": {
      "text/plain": [
       "UpdateResult(operation_id=5, status=<UpdateStatus.COMPLETED: 'completed'>)"
      ]
     },
     "execution_count": 2,
     "metadata": {},
     "output_type": "execute_result"
    }
   ],
   "source": [
    "from qdrant_client.http.models import PayloadSchemaType\n",
    "\n",
    "from yt_rag.vector_store.qdrant_db import get_qdrant_client\n",
    "\n",
    "client = get_qdrant_client()\n",
    "client.create_payload_index(\n",
    "    collection_name=\"Ht8ImZT6kJ0\",\n",
    "    field_name=\"type\",\n",
    "    field_schema=PayloadSchemaType.KEYWORD,\n",
    ")\n"
   ]
  },
  {
   "cell_type": "code",
   "execution_count": 3,
   "id": "127ee809",
   "metadata": {},
   "outputs": [
    {
     "name": "stdout",
     "output_type": "stream",
     "text": [
      "Found 5 relevant frames\n",
      "Found 5 relevant text chunks\n",
      "\n",
      "Top frame results:\n",
      "Score: 0.250, Path: C:\\Users\\chebr\\OneDrive\\Documents\\YT_RAG\\Ht8ImZT6kJ0\\frame_0013.jpg\n",
      "Score: 0.248, Path: C:\\Users\\chebr\\OneDrive\\Documents\\YT_RAG\\Ht8ImZT6kJ0\\frame_0010.jpg\n",
      "Score: 0.246, Path: C:\\Users\\chebr\\OneDrive\\Documents\\YT_RAG\\Ht8ImZT6kJ0\\frame_0002.jpg\n",
      "\n",
      "Top text results:\n",
      "Score: 0.721, ID: 83b1dfbf-f100-43cd-8d1a-7990e3e0d1e7, Start: N/A\n",
      "Score: 0.716, ID: 995c8787-c420-4a15-8918-4fe3ec48c1c8, Start: N/A\n",
      "Score: 0.695, ID: bf1587e7-e3db-4c36-b088-454d213bbc84, Start: N/A\n"
     ]
    }
   ],
   "source": [
    "from yt_rag.vector_store.vector_search import qdrant_search\n",
    "\n",
    "frames_metadata, text_metadata = qdrant_search(\n",
    "    collection_name=\"Ht8ImZT6kJ0\",\n",
    "    query_embedding=query_embedding,\n",
    "    top_k=5\n",
    ")\n",
    "\n",
    "print(f\"Found {len(frames_metadata)} relevant frames\")\n",
    "print(f\"Found {len(text_metadata)} relevant text chunks\")\n",
    "\n",
    "# Display results\n",
    "if frames_metadata:\n",
    "    print(\"\\nTop frame results:\")\n",
    "    for frame in frames_metadata[:3]:\n",
    "        print(f\"Score: {frame['score']:.3f}, Path: {frame['image_path']}\")\n",
    "\n",
    "if text_metadata:\n",
    "    print(\"\\nTop text results:\")\n",
    "    for text in text_metadata[:3]:\n",
    "        print(f\"Score: {text['score']:.3f}, ID: {text['id']}, Start: {text.get('start_time', 'N/A')}\")\n"
   ]
  },
  {
   "cell_type": "code",
   "execution_count": null,
   "id": "edacd581",
   "metadata": {},
   "outputs": [],
   "source": []
  },
  {
   "cell_type": "code",
   "execution_count": null,
   "id": "a659f9e8",
   "metadata": {},
   "outputs": [],
   "source": []
  }
 ],
 "metadata": {
  "kernelspec": {
   "display_name": "yt-rag",
   "language": "python",
   "name": "python3"
  },
  "language_info": {
   "codemirror_mode": {
    "name": "ipython",
    "version": 3
   },
   "file_extension": ".py",
   "mimetype": "text/x-python",
   "name": "python",
   "nbconvert_exporter": "python",
   "pygments_lexer": "ipython3",
   "version": "3.10.18"
  }
 },
 "nbformat": 4,
 "nbformat_minor": 5
}
