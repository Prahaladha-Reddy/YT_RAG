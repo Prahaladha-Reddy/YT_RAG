{
 "cells": [
  {
   "cell_type": "code",
   "execution_count": 1,
   "id": "8bb2af8f",
   "metadata": {},
   "outputs": [
    {
     "name": "stdout",
     "output_type": "stream",
     "text": [
      "hi\n"
     ]
    }
   ],
   "source": [
    "print(\"hi\")"
   ]
  },
  {
   "cell_type": "code",
   "execution_count": 5,
   "id": "44dbdd0c",
   "metadata": {},
   "outputs": [],
   "source": [
    "from yt_rag.vector_store.qdrent_vector_store import QdrentVectorStore"
   ]
  },
  {
   "cell_type": "code",
   "execution_count": null,
   "id": "1f0d9835",
   "metadata": {},
   "outputs": [],
   "source": []
  }
 ],
 "metadata": {
  "kernelspec": {
   "display_name": ".venv",
   "language": "python",
   "name": "python3"
  },
  "language_info": {
   "codemirror_mode": {
    "name": "ipython",
    "version": 3
   },
   "file_extension": ".py",
   "mimetype": "text/x-python",
   "name": "python",
   "nbconvert_exporter": "python",
   "pygments_lexer": "ipython3",
   "version": "3.10.15"
  }
 },
 "nbformat": 4,
 "nbformat_minor": 5
}
