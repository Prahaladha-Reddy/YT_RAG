{
 "cells": [
  {
   "cell_type": "code",
   "execution_count": 1,
   "id": "41ca047a",
   "metadata": {},
   "outputs": [],
   "source": [
    "from yt_rag.frames.collect_frames import collect_frames_from_ffmpeg"
   ]
  },
  {
   "cell_type": "code",
   "execution_count": 65,
   "id": "b00db85b",
   "metadata": {},
   "outputs": [],
   "source": [
    "youtube_url=\"https://youtu.be/zA2norijgzM?si=hlg65CbAHNK987sM\""
   ]
  },
  {
   "cell_type": "code",
   "execution_count": 3,
   "id": "a78fa86c",
   "metadata": {},
   "outputs": [
    {
     "name": "stdout",
     "output_type": "stream",
     "text": [
      "[youtube] Extracting URL: https://youtu.be/zA2norijgzM?si=hlg65CbAHNK987sM\n",
      "[youtube] zA2norijgzM: Downloading webpage\n",
      "[youtube] zA2norijgzM: Downloading tv client config\n",
      "[youtube] zA2norijgzM: Downloading tv player API JSON\n",
      "[youtube] zA2norijgzM: Downloading tv simply player API JSON\n",
      "Successfully found stream URL for a video of 671 seconds.\n",
      "Directory 'zA2norijgzM' created. Starting FAST frame extraction...\n"
     ]
    }
   ],
   "source": [
    "image_paths=collect_frames_from_ffmpeg(youtube_url)"
   ]
  },
  {
   "cell_type": "code",
   "execution_count": 4,
   "id": "135bb365",
   "metadata": {},
   "outputs": [
    {
     "data": {
      "text/plain": [
       "'./zA2norijgzM'"
      ]
     },
     "execution_count": 4,
     "metadata": {},
     "output_type": "execute_result"
    }
   ],
   "source": [
    "image_paths"
   ]
  },
  {
   "cell_type": "code",
   "execution_count": 5,
   "id": "d503f965",
   "metadata": {},
   "outputs": [],
   "source": [
    "from core.database.db_helpers import list_folder_contents_os_walk"
   ]
  },
  {
   "cell_type": "code",
   "execution_count": 6,
   "id": "7e8c18de",
   "metadata": {},
   "outputs": [],
   "source": [
    "image_files=list_folder_contents_os_walk(image_paths)"
   ]
  },
  {
   "cell_type": "code",
   "execution_count": 7,
   "id": "6eee959f",
   "metadata": {},
   "outputs": [
    {
     "data": {
      "text/plain": [
       "['./zA2norijgzM/frame_0001.jpg',\n",
       " './zA2norijgzM/frame_0002.jpg',\n",
       " './zA2norijgzM/frame_0003.jpg',\n",
       " './zA2norijgzM/frame_0004.jpg',\n",
       " './zA2norijgzM/frame_0005.jpg',\n",
       " './zA2norijgzM/frame_0006.jpg',\n",
       " './zA2norijgzM/frame_0007.jpg',\n",
       " './zA2norijgzM/frame_0008.jpg',\n",
       " './zA2norijgzM/frame_0009.jpg',\n",
       " './zA2norijgzM/frame_0010.jpg',\n",
       " './zA2norijgzM/frame_0011.jpg',\n",
       " './zA2norijgzM/frame_0012.jpg',\n",
       " './zA2norijgzM/frame_0013.jpg',\n",
       " './zA2norijgzM/frame_0014.jpg',\n",
       " './zA2norijgzM/frame_0015.jpg',\n",
       " './zA2norijgzM/frame_0016.jpg',\n",
       " './zA2norijgzM/frame_0017.jpg',\n",
       " './zA2norijgzM/frame_0018.jpg',\n",
       " './zA2norijgzM/frame_0019.jpg',\n",
       " './zA2norijgzM/frame_0020.jpg',\n",
       " './zA2norijgzM/frame_0021.jpg',\n",
       " './zA2norijgzM/frame_0022.jpg',\n",
       " './zA2norijgzM/frame_0023.jpg',\n",
       " './zA2norijgzM/frame_0024.jpg',\n",
       " './zA2norijgzM/frame_0025.jpg',\n",
       " './zA2norijgzM/frame_0026.jpg',\n",
       " './zA2norijgzM/frame_0027.jpg',\n",
       " './zA2norijgzM/frame_0028.jpg',\n",
       " './zA2norijgzM/frame_0029.jpg',\n",
       " './zA2norijgzM/frame_0030.jpg',\n",
       " './zA2norijgzM/frame_0031.jpg',\n",
       " './zA2norijgzM/frame_0032.jpg',\n",
       " './zA2norijgzM/frame_0033.jpg',\n",
       " './zA2norijgzM/frame_0034.jpg']"
      ]
     },
     "execution_count": 7,
     "metadata": {},
     "output_type": "execute_result"
    }
   ],
   "source": [
    "image_files"
   ]
  },
  {
   "cell_type": "code",
   "execution_count": null,
   "id": "013e7fad",
   "metadata": {},
   "outputs": [],
   "source": [
    "import mimetypes, pathlib"
   ]
  },
  {
   "cell_type": "code",
   "execution_count": 13,
   "id": "bff17d46",
   "metadata": {},
   "outputs": [],
   "source": [
    "from core.database.supabase_client import get_supabase_client"
   ]
  },
  {
   "cell_type": "code",
   "execution_count": 16,
   "id": "2d42de7e",
   "metadata": {},
   "outputs": [],
   "source": [
    "client=get_supabase_client()"
   ]
  },
  {
   "cell_type": "code",
   "execution_count": 19,
   "id": "0dbb224e",
   "metadata": {},
   "outputs": [],
   "source": [
    "bucket = \"images\""
   ]
  },
  {
   "cell_type": "code",
   "execution_count": 20,
   "id": "a10dd448",
   "metadata": {},
   "outputs": [],
   "source": [
    "def push_to_bucket(image_folder):\n",
    "  files=list_folder_contents_os_walk(image_folder)\n",
    "  try :\n",
    "    for file in files:\n",
    "        ctype, _ = mimetypes.guess_type(file)\n",
    "        ctype = ctype or \"application/octet-stream\"\n",
    "        with open(file, \"rb\") as f:\n",
    "            client.storage.from_(bucket).upload(\n",
    "                path=file,\n",
    "                file=f,\n",
    "                file_options={\"content-type\": ctype, \"cache-control\": \"3600\", \"upsert\": \"true\"},\n",
    "            )\n",
    "    return True\n",
    "  except Exception as e:\n",
    "    print(e)\n",
    "    return False"
   ]
  },
  {
   "cell_type": "code",
   "execution_count": 21,
   "id": "9b3256c8",
   "metadata": {},
   "outputs": [],
   "source": [
    "pushed=push_to_bucket(image_paths)"
   ]
  },
  {
   "cell_type": "code",
   "execution_count": 22,
   "id": "4b4ff5e2",
   "metadata": {},
   "outputs": [
    {
     "data": {
      "text/plain": [
       "True"
      ]
     },
     "execution_count": 22,
     "metadata": {},
     "output_type": "execute_result"
    }
   ],
   "source": [
    "pushed"
   ]
  },
  {
   "cell_type": "code",
   "execution_count": 31,
   "id": "ff4faec3",
   "metadata": {},
   "outputs": [],
   "source": [
    "response = client.storage.get_bucket(bucket)"
   ]
  },
  {
   "cell_type": "code",
   "execution_count": 32,
   "id": "5f74028e",
   "metadata": {},
   "outputs": [
    {
     "data": {
      "text/plain": [
       "SyncBucket(id='images', name='images', owner='', public=True, created_at=datetime.datetime(2025, 9, 17, 10, 26, 40, 995000, tzinfo=tzutc()), updated_at=datetime.datetime(2025, 9, 17, 10, 26, 40, 995000, tzinfo=tzutc()), file_size_limit=None, allowed_mime_types=None, type=None)"
      ]
     },
     "execution_count": 32,
     "metadata": {},
     "output_type": "execute_result"
    }
   ],
   "source": [
    "response"
   ]
  },
  {
   "cell_type": "code",
   "execution_count": 36,
   "id": "0b505262",
   "metadata": {},
   "outputs": [
    {
     "data": {
      "text/plain": [
       "[{'name': 'kids',\n",
       "  'id': None,\n",
       "  'updated_at': None,\n",
       "  'created_at': None,\n",
       "  'last_accessed_at': None,\n",
       "  'metadata': None},\n",
       " {'name': 'zA2norijgzM',\n",
       "  'id': None,\n",
       "  'updated_at': None,\n",
       "  'created_at': None,\n",
       "  'last_accessed_at': None,\n",
       "  'metadata': None}]"
      ]
     },
     "execution_count": 36,
     "metadata": {},
     "output_type": "execute_result"
    }
   ],
   "source": [
    "client.storage.from_(\"images\").list(\"\")"
   ]
  },
  {
   "cell_type": "code",
   "execution_count": null,
   "id": "a9897fa2",
   "metadata": {},
   "outputs": [
    {
     "data": {
      "text/plain": [
       "[{'name': 'frame_0001.jpg',\n",
       "  'id': '4a0bd0f2-97c8-480f-819e-e8610a7f73e7',\n",
       "  'updated_at': '2025-09-17T15:39:48.393Z',\n",
       "  'created_at': '2025-09-17T15:39:48.393Z',\n",
       "  'last_accessed_at': '2025-09-17T15:39:48.393Z',\n",
       "  'metadata': {'eTag': '\"f05defd0345ac101c9a17fba94c60bd2\"',\n",
       "   'size': 20091,\n",
       "   'mimetype': 'image/jpeg',\n",
       "   'cacheControl': 'max-age=3600',\n",
       "   'lastModified': '2025-09-17T15:39:49.000Z',\n",
       "   'contentLength': 20091,\n",
       "   'httpStatusCode': 200}},\n",
       " {'name': 'frame_0002.jpg',\n",
       "  'id': '65f0a0a9-6dc3-4e58-b8bd-96288341eb80',\n",
       "  'updated_at': '2025-09-17T15:39:48.690Z',\n",
       "  'created_at': '2025-09-17T15:39:48.690Z',\n",
       "  'last_accessed_at': '2025-09-17T15:39:48.690Z',\n",
       "  'metadata': {'eTag': '\"b54827000df5f320251b79c0936c04fe\"',\n",
       "   'size': 16742,\n",
       "   'mimetype': 'image/jpeg',\n",
       "   'cacheControl': 'max-age=3600',\n",
       "   'lastModified': '2025-09-17T15:39:49.000Z',\n",
       "   'contentLength': 16742,\n",
       "   'httpStatusCode': 200}},\n",
       " {'name': 'frame_0003.jpg',\n",
       "  'id': 'e461b18e-b977-4c4e-8ab5-7dc39768062c',\n",
       "  'updated_at': '2025-09-17T15:39:48.999Z',\n",
       "  'created_at': '2025-09-17T15:39:48.999Z',\n",
       "  'last_accessed_at': '2025-09-17T15:39:48.999Z',\n",
       "  'metadata': {'eTag': '\"470806f6054dbf1f783ac202f7c94114\"',\n",
       "   'size': 35598,\n",
       "   'mimetype': 'image/jpeg',\n",
       "   'cacheControl': 'max-age=3600',\n",
       "   'lastModified': '2025-09-17T15:39:49.000Z',\n",
       "   'contentLength': 35598,\n",
       "   'httpStatusCode': 200}},\n",
       " {'name': 'frame_0004.jpg',\n",
       "  'id': '4adaf4c9-79fe-47f9-b3b2-5ffba295b0ef',\n",
       "  'updated_at': '2025-09-17T15:39:49.315Z',\n",
       "  'created_at': '2025-09-17T15:39:49.315Z',\n",
       "  'last_accessed_at': '2025-09-17T15:39:49.315Z',\n",
       "  'metadata': {'eTag': '\"2fa570985d9712c48e4c135d83bddd9a\"',\n",
       "   'size': 49520,\n",
       "   'mimetype': 'image/jpeg',\n",
       "   'cacheControl': 'max-age=3600',\n",
       "   'lastModified': '2025-09-17T15:39:50.000Z',\n",
       "   'contentLength': 49520,\n",
       "   'httpStatusCode': 200}},\n",
       " {'name': 'frame_0005.jpg',\n",
       "  'id': '89bbd7f4-ecf3-4fd8-aec1-9c59e1f569b5',\n",
       "  'updated_at': '2025-09-17T15:39:49.607Z',\n",
       "  'created_at': '2025-09-17T15:39:49.607Z',\n",
       "  'last_accessed_at': '2025-09-17T15:39:49.607Z',\n",
       "  'metadata': {'eTag': '\"11645723dd4e985c45fc204e53d710db\"',\n",
       "   'size': 30638,\n",
       "   'mimetype': 'image/jpeg',\n",
       "   'cacheControl': 'max-age=3600',\n",
       "   'lastModified': '2025-09-17T15:39:50.000Z',\n",
       "   'contentLength': 30638,\n",
       "   'httpStatusCode': 200}},\n",
       " {'name': 'frame_0006.jpg',\n",
       "  'id': '74a4e4f6-2272-41ed-9c62-8cfd37174d1d',\n",
       "  'updated_at': '2025-09-17T15:39:49.940Z',\n",
       "  'created_at': '2025-09-17T15:39:49.940Z',\n",
       "  'last_accessed_at': '2025-09-17T15:39:49.940Z',\n",
       "  'metadata': {'eTag': '\"31bd246604b5ccaa24ce4eb0f39458d6\"',\n",
       "   'size': 47304,\n",
       "   'mimetype': 'image/jpeg',\n",
       "   'cacheControl': 'max-age=3600',\n",
       "   'lastModified': '2025-09-17T15:39:50.000Z',\n",
       "   'contentLength': 47304,\n",
       "   'httpStatusCode': 200}},\n",
       " {'name': 'frame_0007.jpg',\n",
       "  'id': '6368e03e-1943-4636-b8d7-5588758fb5e7',\n",
       "  'updated_at': '2025-09-17T15:39:50.194Z',\n",
       "  'created_at': '2025-09-17T15:39:50.194Z',\n",
       "  'last_accessed_at': '2025-09-17T15:39:50.194Z',\n",
       "  'metadata': {'eTag': '\"74a4d834ca60108d01046efd0d9cfb00\"',\n",
       "   'size': 24658,\n",
       "   'mimetype': 'image/jpeg',\n",
       "   'cacheControl': 'max-age=3600',\n",
       "   'lastModified': '2025-09-17T15:39:51.000Z',\n",
       "   'contentLength': 24658,\n",
       "   'httpStatusCode': 200}},\n",
       " {'name': 'frame_0008.jpg',\n",
       "  'id': 'a65b7f4d-b921-4238-bf2d-7347572f206e',\n",
       "  'updated_at': '2025-09-17T15:39:50.469Z',\n",
       "  'created_at': '2025-09-17T15:39:50.469Z',\n",
       "  'last_accessed_at': '2025-09-17T15:39:50.469Z',\n",
       "  'metadata': {'eTag': '\"b2ab139b7dc472e1e0f08679223ad974\"',\n",
       "   'size': 30934,\n",
       "   'mimetype': 'image/jpeg',\n",
       "   'cacheControl': 'max-age=3600',\n",
       "   'lastModified': '2025-09-17T15:39:51.000Z',\n",
       "   'contentLength': 30934,\n",
       "   'httpStatusCode': 200}},\n",
       " {'name': 'frame_0009.jpg',\n",
       "  'id': 'e180276f-9046-44f5-b7e1-7478c07a7b03',\n",
       "  'updated_at': '2025-09-17T15:39:50.693Z',\n",
       "  'created_at': '2025-09-17T15:39:50.693Z',\n",
       "  'last_accessed_at': '2025-09-17T15:39:50.693Z',\n",
       "  'metadata': {'eTag': '\"bcf9713c4c0a90e32edf069f80c00a02\"',\n",
       "   'size': 28012,\n",
       "   'mimetype': 'image/jpeg',\n",
       "   'cacheControl': 'max-age=3600',\n",
       "   'lastModified': '2025-09-17T15:39:51.000Z',\n",
       "   'contentLength': 28012,\n",
       "   'httpStatusCode': 200}},\n",
       " {'name': 'frame_0010.jpg',\n",
       "  'id': '721b0fc7-a0c9-4562-9e9f-34b66debb163',\n",
       "  'updated_at': '2025-09-17T15:39:51.034Z',\n",
       "  'created_at': '2025-09-17T15:39:51.034Z',\n",
       "  'last_accessed_at': '2025-09-17T15:39:51.034Z',\n",
       "  'metadata': {'eTag': '\"7ab20632f43422133152a7eff1e8bdf6\"',\n",
       "   'size': 47972,\n",
       "   'mimetype': 'image/jpeg',\n",
       "   'cacheControl': 'max-age=3600',\n",
       "   'lastModified': '2025-09-17T15:39:51.000Z',\n",
       "   'contentLength': 47972,\n",
       "   'httpStatusCode': 200}},\n",
       " {'name': 'frame_0011.jpg',\n",
       "  'id': '81edea1d-f212-4c48-9c1b-8f11f35bde22',\n",
       "  'updated_at': '2025-09-17T15:39:51.294Z',\n",
       "  'created_at': '2025-09-17T15:39:51.294Z',\n",
       "  'last_accessed_at': '2025-09-17T15:39:51.294Z',\n",
       "  'metadata': {'eTag': '\"9b995560ae3962cd3aae5a8ffb4cd06f\"',\n",
       "   'size': 27030,\n",
       "   'mimetype': 'image/jpeg',\n",
       "   'cacheControl': 'max-age=3600',\n",
       "   'lastModified': '2025-09-17T15:39:52.000Z',\n",
       "   'contentLength': 27030,\n",
       "   'httpStatusCode': 200}},\n",
       " {'name': 'frame_0012.jpg',\n",
       "  'id': 'edfe40c7-454c-44f0-af96-a299a4c325ac',\n",
       "  'updated_at': '2025-09-17T15:39:51.505Z',\n",
       "  'created_at': '2025-09-17T15:39:51.505Z',\n",
       "  'last_accessed_at': '2025-09-17T15:39:51.505Z',\n",
       "  'metadata': {'eTag': '\"f931dd00bf1d12fe4d4642fffd6a13f0\"',\n",
       "   'size': 29419,\n",
       "   'mimetype': 'image/jpeg',\n",
       "   'cacheControl': 'max-age=3600',\n",
       "   'lastModified': '2025-09-17T15:39:52.000Z',\n",
       "   'contentLength': 29419,\n",
       "   'httpStatusCode': 200}},\n",
       " {'name': 'frame_0013.jpg',\n",
       "  'id': '3d994d41-8b42-4c45-b952-733ff97075b7',\n",
       "  'updated_at': '2025-09-17T15:39:51.742Z',\n",
       "  'created_at': '2025-09-17T15:39:51.742Z',\n",
       "  'last_accessed_at': '2025-09-17T15:39:51.742Z',\n",
       "  'metadata': {'eTag': '\"b06522cf1b941935f02b01e4f6f15cdf\"',\n",
       "   'size': 28646,\n",
       "   'mimetype': 'image/jpeg',\n",
       "   'cacheControl': 'max-age=3600',\n",
       "   'lastModified': '2025-09-17T15:39:52.000Z',\n",
       "   'contentLength': 28646,\n",
       "   'httpStatusCode': 200}},\n",
       " {'name': 'frame_0014.jpg',\n",
       "  'id': 'c5da3933-226d-46a2-ac5f-97794e6f5531',\n",
       "  'updated_at': '2025-09-17T15:39:52.016Z',\n",
       "  'created_at': '2025-09-17T15:39:52.016Z',\n",
       "  'last_accessed_at': '2025-09-17T15:39:52.016Z',\n",
       "  'metadata': {'eTag': '\"53613ef136847aca04e12a096dc7d187\"',\n",
       "   'size': 48542,\n",
       "   'mimetype': 'image/jpeg',\n",
       "   'cacheControl': 'max-age=3600',\n",
       "   'lastModified': '2025-09-17T15:39:52.000Z',\n",
       "   'contentLength': 48542,\n",
       "   'httpStatusCode': 200}},\n",
       " {'name': 'frame_0015.jpg',\n",
       "  'id': '14ffd929-0159-453e-8b7d-df60bb0cb0d1',\n",
       "  'updated_at': '2025-09-17T15:39:52.262Z',\n",
       "  'created_at': '2025-09-17T15:39:52.262Z',\n",
       "  'last_accessed_at': '2025-09-17T15:39:52.262Z',\n",
       "  'metadata': {'eTag': '\"495870b575067eb07302d501d74972dc\"',\n",
       "   'size': 31705,\n",
       "   'mimetype': 'image/jpeg',\n",
       "   'cacheControl': 'max-age=3600',\n",
       "   'lastModified': '2025-09-17T15:39:53.000Z',\n",
       "   'contentLength': 31705,\n",
       "   'httpStatusCode': 200}},\n",
       " {'name': 'frame_0016.jpg',\n",
       "  'id': '487974f0-a2a7-4e17-912c-8be3b29babd4',\n",
       "  'updated_at': '2025-09-17T15:39:52.579Z',\n",
       "  'created_at': '2025-09-17T15:39:52.579Z',\n",
       "  'last_accessed_at': '2025-09-17T15:39:52.579Z',\n",
       "  'metadata': {'eTag': '\"c4721da719f054a1dee5171981a248cb\"',\n",
       "   'size': 27346,\n",
       "   'mimetype': 'image/jpeg',\n",
       "   'cacheControl': 'max-age=3600',\n",
       "   'lastModified': '2025-09-17T15:39:53.000Z',\n",
       "   'contentLength': 27346,\n",
       "   'httpStatusCode': 200}},\n",
       " {'name': 'frame_0017.jpg',\n",
       "  'id': 'b376f9a3-6cf5-41bf-8dc0-40381ed385c7',\n",
       "  'updated_at': '2025-09-17T15:39:52.800Z',\n",
       "  'created_at': '2025-09-17T15:39:52.800Z',\n",
       "  'last_accessed_at': '2025-09-17T15:39:52.800Z',\n",
       "  'metadata': {'eTag': '\"1b1f5e489a6ce067e43e69b9d6c37be8\"',\n",
       "   'size': 29294,\n",
       "   'mimetype': 'image/jpeg',\n",
       "   'cacheControl': 'max-age=3600',\n",
       "   'lastModified': '2025-09-17T15:39:53.000Z',\n",
       "   'contentLength': 29294,\n",
       "   'httpStatusCode': 200}},\n",
       " {'name': 'frame_0018.jpg',\n",
       "  'id': 'cc905f94-42ef-4527-ba2b-86f70946ca8e',\n",
       "  'updated_at': '2025-09-17T15:39:53.006Z',\n",
       "  'created_at': '2025-09-17T15:39:53.006Z',\n",
       "  'last_accessed_at': '2025-09-17T15:39:53.006Z',\n",
       "  'metadata': {'eTag': '\"bb216b82c55ab9c2a7868dd1544646f8\"',\n",
       "   'size': 29944,\n",
       "   'mimetype': 'image/jpeg',\n",
       "   'cacheControl': 'max-age=3600',\n",
       "   'lastModified': '2025-09-17T15:39:53.000Z',\n",
       "   'contentLength': 29944,\n",
       "   'httpStatusCode': 200}},\n",
       " {'name': 'frame_0019.jpg',\n",
       "  'id': 'dfe88c0f-4a72-4ff9-a222-2bfbf4bb452f',\n",
       "  'updated_at': '2025-09-17T15:39:53.285Z',\n",
       "  'created_at': '2025-09-17T15:39:53.285Z',\n",
       "  'last_accessed_at': '2025-09-17T15:39:53.285Z',\n",
       "  'metadata': {'eTag': '\"7bcb28a4dc4ab5f72ac4663dd9362ad8\"',\n",
       "   'size': 28092,\n",
       "   'mimetype': 'image/jpeg',\n",
       "   'cacheControl': 'max-age=3600',\n",
       "   'lastModified': '2025-09-17T15:39:54.000Z',\n",
       "   'contentLength': 28092,\n",
       "   'httpStatusCode': 200}},\n",
       " {'name': 'frame_0020.jpg',\n",
       "  'id': '6386ff8d-adbf-4b8a-a829-1f493c9a3f04',\n",
       "  'updated_at': '2025-09-17T15:39:53.496Z',\n",
       "  'created_at': '2025-09-17T15:39:53.496Z',\n",
       "  'last_accessed_at': '2025-09-17T15:39:53.496Z',\n",
       "  'metadata': {'eTag': '\"6148d0a25e45d844bd6d6a891fa4c52f\"',\n",
       "   'size': 29699,\n",
       "   'mimetype': 'image/jpeg',\n",
       "   'cacheControl': 'max-age=3600',\n",
       "   'lastModified': '2025-09-17T15:39:54.000Z',\n",
       "   'contentLength': 29699,\n",
       "   'httpStatusCode': 200}},\n",
       " {'name': 'frame_0021.jpg',\n",
       "  'id': '7b7f62de-2e24-4a6c-a4ae-7ae4625bc340',\n",
       "  'updated_at': '2025-09-17T15:39:53.712Z',\n",
       "  'created_at': '2025-09-17T15:39:53.712Z',\n",
       "  'last_accessed_at': '2025-09-17T15:39:53.712Z',\n",
       "  'metadata': {'eTag': '\"bbb8d29682309d378b1a84342010a800\"',\n",
       "   'size': 27839,\n",
       "   'mimetype': 'image/jpeg',\n",
       "   'cacheControl': 'max-age=3600',\n",
       "   'lastModified': '2025-09-17T15:39:54.000Z',\n",
       "   'contentLength': 27839,\n",
       "   'httpStatusCode': 200}},\n",
       " {'name': 'frame_0022.jpg',\n",
       "  'id': '2b342b18-9e49-4daf-bd50-d27a68c7fd9d',\n",
       "  'updated_at': '2025-09-17T15:39:53.926Z',\n",
       "  'created_at': '2025-09-17T15:39:53.926Z',\n",
       "  'last_accessed_at': '2025-09-17T15:39:53.926Z',\n",
       "  'metadata': {'eTag': '\"f008fe411954e4d1e34d75348a45a6e9\"',\n",
       "   'size': 26011,\n",
       "   'mimetype': 'image/jpeg',\n",
       "   'cacheControl': 'max-age=3600',\n",
       "   'lastModified': '2025-09-17T15:39:54.000Z',\n",
       "   'contentLength': 26011,\n",
       "   'httpStatusCode': 200}},\n",
       " {'name': 'frame_0023.jpg',\n",
       "  'id': '4fad27a9-26a5-491e-a245-8df53b6cb1d5',\n",
       "  'updated_at': '2025-09-17T15:39:54.196Z',\n",
       "  'created_at': '2025-09-17T15:39:54.196Z',\n",
       "  'last_accessed_at': '2025-09-17T15:39:54.196Z',\n",
       "  'metadata': {'eTag': '\"7e35669eecd8a0b0ef7a2cbbd0d6f723\"',\n",
       "   'size': 49608,\n",
       "   'mimetype': 'image/jpeg',\n",
       "   'cacheControl': 'max-age=3600',\n",
       "   'lastModified': '2025-09-17T15:39:55.000Z',\n",
       "   'contentLength': 49608,\n",
       "   'httpStatusCode': 200}},\n",
       " {'name': 'frame_0024.jpg',\n",
       "  'id': '10ed8d56-8da9-4c69-a945-5469c0c737a8',\n",
       "  'updated_at': '2025-09-17T15:39:54.526Z',\n",
       "  'created_at': '2025-09-17T15:39:54.526Z',\n",
       "  'last_accessed_at': '2025-09-17T15:39:54.526Z',\n",
       "  'metadata': {'eTag': '\"223a7f5e402341667e31e2e279a2861a\"',\n",
       "   'size': 30599,\n",
       "   'mimetype': 'image/jpeg',\n",
       "   'cacheControl': 'max-age=3600',\n",
       "   'lastModified': '2025-09-17T15:39:55.000Z',\n",
       "   'contentLength': 30599,\n",
       "   'httpStatusCode': 200}},\n",
       " {'name': 'frame_0025.jpg',\n",
       "  'id': '1b58aff8-29a4-42b8-90e9-e2a2fe58af09',\n",
       "  'updated_at': '2025-09-17T15:39:54.934Z',\n",
       "  'created_at': '2025-09-17T15:39:54.934Z',\n",
       "  'last_accessed_at': '2025-09-17T15:39:54.934Z',\n",
       "  'metadata': {'eTag': '\"4dcd4939b226a38a54eb28c30e285cd4\"',\n",
       "   'size': 48772,\n",
       "   'mimetype': 'image/jpeg',\n",
       "   'cacheControl': 'max-age=3600',\n",
       "   'lastModified': '2025-09-17T15:39:55.000Z',\n",
       "   'contentLength': 48772,\n",
       "   'httpStatusCode': 200}},\n",
       " {'name': 'frame_0026.jpg',\n",
       "  'id': 'afdd07f8-a1e0-4e9b-8cb3-776c44654b76',\n",
       "  'updated_at': '2025-09-17T15:39:55.222Z',\n",
       "  'created_at': '2025-09-17T15:39:55.222Z',\n",
       "  'last_accessed_at': '2025-09-17T15:39:55.222Z',\n",
       "  'metadata': {'eTag': '\"6ff10606f702b7a1f18d452eca724bf9\"',\n",
       "   'size': 48714,\n",
       "   'mimetype': 'image/jpeg',\n",
       "   'cacheControl': 'max-age=3600',\n",
       "   'lastModified': '2025-09-17T15:39:56.000Z',\n",
       "   'contentLength': 48714,\n",
       "   'httpStatusCode': 200}},\n",
       " {'name': 'frame_0027.jpg',\n",
       "  'id': '34744987-4c77-4e20-a0d8-bc049bb8103a',\n",
       "  'updated_at': '2025-09-17T15:39:55.474Z',\n",
       "  'created_at': '2025-09-17T15:39:55.474Z',\n",
       "  'last_accessed_at': '2025-09-17T15:39:55.474Z',\n",
       "  'metadata': {'eTag': '\"1c8fcba8c0a95a77276f565ae028f831\"',\n",
       "   'size': 28004,\n",
       "   'mimetype': 'image/jpeg',\n",
       "   'cacheControl': 'max-age=3600',\n",
       "   'lastModified': '2025-09-17T15:39:56.000Z',\n",
       "   'contentLength': 28004,\n",
       "   'httpStatusCode': 200}},\n",
       " {'name': 'frame_0028.jpg',\n",
       "  'id': '6f19fac1-a786-4f12-99ae-7b68119b23ab',\n",
       "  'updated_at': '2025-09-17T15:39:55.805Z',\n",
       "  'created_at': '2025-09-17T15:39:55.805Z',\n",
       "  'last_accessed_at': '2025-09-17T15:39:55.805Z',\n",
       "  'metadata': {'eTag': '\"770127b92b1fe2adc7b348f3d37df1d5\"',\n",
       "   'size': 30862,\n",
       "   'mimetype': 'image/jpeg',\n",
       "   'cacheControl': 'max-age=3600',\n",
       "   'lastModified': '2025-09-17T15:39:56.000Z',\n",
       "   'contentLength': 30862,\n",
       "   'httpStatusCode': 200}},\n",
       " {'name': 'frame_0029.jpg',\n",
       "  'id': '6f7ded16-83c8-4301-a01f-1b177e85e83e',\n",
       "  'updated_at': '2025-09-17T15:39:56.021Z',\n",
       "  'created_at': '2025-09-17T15:39:56.021Z',\n",
       "  'last_accessed_at': '2025-09-17T15:39:56.021Z',\n",
       "  'metadata': {'eTag': '\"8107803598d4afb809c8856dddd0ac63\"',\n",
       "   'size': 25408,\n",
       "   'mimetype': 'image/jpeg',\n",
       "   'cacheControl': 'max-age=3600',\n",
       "   'lastModified': '2025-09-17T15:39:56.000Z',\n",
       "   'contentLength': 25408,\n",
       "   'httpStatusCode': 200}},\n",
       " {'name': 'frame_0030.jpg',\n",
       "  'id': 'b923648b-0255-45f2-b0fe-08ce07f40889',\n",
       "  'updated_at': '2025-09-17T15:39:56.339Z',\n",
       "  'created_at': '2025-09-17T15:39:56.339Z',\n",
       "  'last_accessed_at': '2025-09-17T15:39:56.339Z',\n",
       "  'metadata': {'eTag': '\"f32c94ed4ef0704241681f0263f9f347\"',\n",
       "   'size': 31322,\n",
       "   'mimetype': 'image/jpeg',\n",
       "   'cacheControl': 'max-age=3600',\n",
       "   'lastModified': '2025-09-17T15:39:57.000Z',\n",
       "   'contentLength': 31322,\n",
       "   'httpStatusCode': 200}},\n",
       " {'name': 'frame_0031.jpg',\n",
       "  'id': 'c2f0a8f9-3375-43af-815c-ce128da962a3',\n",
       "  'updated_at': '2025-09-17T15:39:56.791Z',\n",
       "  'created_at': '2025-09-17T15:39:56.791Z',\n",
       "  'last_accessed_at': '2025-09-17T15:39:56.791Z',\n",
       "  'metadata': {'eTag': '\"ef821c0236b7c9bb273abe82a7713684\"',\n",
       "   'size': 48473,\n",
       "   'mimetype': 'image/jpeg',\n",
       "   'cacheControl': 'max-age=3600',\n",
       "   'lastModified': '2025-09-17T15:39:57.000Z',\n",
       "   'contentLength': 48473,\n",
       "   'httpStatusCode': 200}},\n",
       " {'name': 'frame_0032.jpg',\n",
       "  'id': 'd9e80116-d267-412e-840f-73b701822d53',\n",
       "  'updated_at': '2025-09-17T15:39:56.995Z',\n",
       "  'created_at': '2025-09-17T15:39:56.995Z',\n",
       "  'last_accessed_at': '2025-09-17T15:39:56.995Z',\n",
       "  'metadata': {'eTag': '\"a3696b0463c7bb218dd449849bbf6ff0\"',\n",
       "   'size': 28509,\n",
       "   'mimetype': 'image/jpeg',\n",
       "   'cacheControl': 'max-age=3600',\n",
       "   'lastModified': '2025-09-17T15:39:57.000Z',\n",
       "   'contentLength': 28509,\n",
       "   'httpStatusCode': 200}},\n",
       " {'name': 'frame_0033.jpg',\n",
       "  'id': 'f5d30ff3-f6be-4224-b82d-fb711797fdd9',\n",
       "  'updated_at': '2025-09-17T15:39:57.277Z',\n",
       "  'created_at': '2025-09-17T15:39:57.277Z',\n",
       "  'last_accessed_at': '2025-09-17T15:39:57.277Z',\n",
       "  'metadata': {'eTag': '\"b7f5d053dbeb378e58ed6a286d3c0f2d\"',\n",
       "   'size': 25183,\n",
       "   'mimetype': 'image/jpeg',\n",
       "   'cacheControl': 'max-age=3600',\n",
       "   'lastModified': '2025-09-17T15:39:58.000Z',\n",
       "   'contentLength': 25183,\n",
       "   'httpStatusCode': 200}},\n",
       " {'name': 'frame_0034.jpg',\n",
       "  'id': 'aa23275b-b326-4e93-a44d-68a99517aee3',\n",
       "  'updated_at': '2025-09-17T15:39:57.474Z',\n",
       "  'created_at': '2025-09-17T15:39:57.474Z',\n",
       "  'last_accessed_at': '2025-09-17T15:39:57.474Z',\n",
       "  'metadata': {'eTag': '\"6ecd2d9977774c3973cdee6cb28f40b8\"',\n",
       "   'size': 17046,\n",
       "   'mimetype': 'image/jpeg',\n",
       "   'cacheControl': 'max-age=3600',\n",
       "   'lastModified': '2025-09-17T15:39:58.000Z',\n",
       "   'contentLength': 17046,\n",
       "   'httpStatusCode': 200}}]"
      ]
     },
     "execution_count": 38,
     "metadata": {},
     "output_type": "execute_result"
    }
   ],
   "source": [
    "client.storage.from_(\"images\").list(\"zA2norijgzM\")"
   ]
  },
  {
   "cell_type": "code",
   "execution_count": 42,
   "id": "14437ec2",
   "metadata": {},
   "outputs": [],
   "source": [
    "response = (\n",
    "    client.storage\n",
    "    .from_(\"images\")\n",
    "    .get_public_url(\"zA2norijgzM/frame_0003.jpg\")\n",
    ")"
   ]
  },
  {
   "cell_type": "code",
   "execution_count": 43,
   "id": "cb8ee906",
   "metadata": {},
   "outputs": [
    {
     "data": {
      "text/plain": [
       "'https://sofowbahdzuboflvuprw.supabase.co/storage/v1/object/public/images/zA2norijgzM/frame_0003.jpg?'"
      ]
     },
     "execution_count": 43,
     "metadata": {},
     "output_type": "execute_result"
    }
   ],
   "source": [
    "response"
   ]
  },
  {
   "cell_type": "code",
   "execution_count": 44,
   "id": "3f32948b",
   "metadata": {},
   "outputs": [],
   "source": [
    "response_2 = (\n",
    "    client.storage\n",
    "    .from_(\"images\")\n",
    "    .get_public_url(\"zA2norijgzM/frame_0004.jpg\")\n",
    ")"
   ]
  },
  {
   "cell_type": "code",
   "execution_count": 45,
   "id": "66cacf0b",
   "metadata": {},
   "outputs": [
    {
     "data": {
      "text/plain": [
       "'https://sofowbahdzuboflvuprw.supabase.co/storage/v1/object/public/images/zA2norijgzM/frame_0004.jpg?'"
      ]
     },
     "execution_count": 45,
     "metadata": {},
     "output_type": "execute_result"
    }
   ],
   "source": [
    "response_2"
   ]
  },
  {
   "cell_type": "code",
   "execution_count": 71,
   "id": "ad1f6b06",
   "metadata": {},
   "outputs": [],
   "source": [
    "def url_constructor(path:str,supabase_url:str=\"'https://sofowbahdzuboflvuprw.supabase.co\",bucket_name:str=\"images\",):\n",
    "  images_urls=[]\n",
    "  image_files=list_folder_contents_os_walk(path)\n",
    "  for image_file in image_files:\n",
    "    url=f\"{supabase_url}/storage/v1/object/public/{bucket_name}/{image_file}\"\n",
    "    images_urls.append(url)\n",
    "  return images_urls"
   ]
  },
  {
   "cell_type": "code",
   "execution_count": 72,
   "id": "f602e286",
   "metadata": {},
   "outputs": [],
   "source": [
    "image_urls=url_constructor(image_paths)"
   ]
  },
  {
   "cell_type": "code",
   "execution_count": 73,
   "id": "ff2070be",
   "metadata": {},
   "outputs": [
    {
     "data": {
      "text/plain": [
       "\"'https://sofowbahdzuboflvuprw.supabase.co/storage/v1/object/public/images/./zA2norijgzM/frame_0001.jpg\""
      ]
     },
     "execution_count": 73,
     "metadata": {},
     "output_type": "execute_result"
    }
   ],
   "source": [
    "image_urls[0]"
   ]
  },
  {
   "cell_type": "code",
   "execution_count": 50,
   "id": "c8f5c6fe",
   "metadata": {},
   "outputs": [
    {
     "name": "stderr",
     "output_type": "stream",
     "text": [
      "c:\\Users\\bored\\Music\\YT_RAG\\.venv\\lib\\site-packages\\tqdm\\auto.py:21: TqdmWarning: IProgress not found. Please update jupyter and ipywidgets. See https://ipywidgets.readthedocs.io/en/stable/user_install.html\n",
      "  from .autonotebook import tqdm as notebook_tqdm\n",
      "Fetching 3 files:   0%|          | 0/3 [00:00<?, ?it/s]c:\\Users\\bored\\Music\\YT_RAG\\.venv\\lib\\site-packages\\huggingface_hub\\file_download.py:143: UserWarning: `huggingface_hub` cache-system uses symlinks by default to efficiently store duplicated files but your machine does not support them in C:\\Users\\bored\\AppData\\Local\\Temp\\fastembed_cache\\models--Qdrant--clip-ViT-B-32-vision. Caching files will still work but in a degraded version that might require more space on your disk. This warning can be disabled by setting the `HF_HUB_DISABLE_SYMLINKS_WARNING` environment variable. For more details, see https://huggingface.co/docs/huggingface_hub/how-to-cache#limitations.\n",
      "To support symlinks on Windows, you either need to activate Developer Mode or to run Python as an administrator. In order to activate developer mode, see this article: https://docs.microsoft.com/en-us/windows/apps/get-started/enable-your-device-for-development\n",
      "  warnings.warn(message)\n",
      "Xet Storage is enabled for this repo, but the 'hf_xet' package is not installed. Falling back to regular HTTP download. For better performance, install the package with: `pip install huggingface_hub[hf_xet]` or `pip install hf_xet`\n",
      "Fetching 3 files: 100%|██████████| 3/3 [00:35<00:00, 11.88s/it]\n",
      "Fetching 5 files:   0%|          | 0/5 [00:00<?, ?it/s]Xet Storage is enabled for this repo, but the 'hf_xet' package is not installed. Falling back to regular HTTP download. For better performance, install the package with: `pip install huggingface_hub[hf_xet]` or `pip install hf_xet`\n",
      "c:\\Users\\bored\\Music\\YT_RAG\\.venv\\lib\\site-packages\\huggingface_hub\\file_download.py:143: UserWarning: `huggingface_hub` cache-system uses symlinks by default to efficiently store duplicated files but your machine does not support them in C:\\Users\\bored\\AppData\\Local\\Temp\\fastembed_cache\\models--Qdrant--clip-ViT-B-32-text. Caching files will still work but in a degraded version that might require more space on your disk. This warning can be disabled by setting the `HF_HUB_DISABLE_SYMLINKS_WARNING` environment variable. For more details, see https://huggingface.co/docs/huggingface_hub/how-to-cache#limitations.\n",
      "To support symlinks on Windows, you either need to activate Developer Mode or to run Python as an administrator. In order to activate developer mode, see this article: https://docs.microsoft.com/en-us/windows/apps/get-started/enable-your-device-for-development\n",
      "  warnings.warn(message)\n",
      "Fetching 5 files: 100%|██████████| 5/5 [00:15<00:00,  3.15s/it]\n"
     ]
    }
   ],
   "source": [
    "from yt_rag.vector_store.embeddings import create_image_embeddings"
   ]
  },
  {
   "cell_type": "code",
   "execution_count": null,
   "id": "5d788b1d",
   "metadata": {},
   "outputs": [],
   "source": [
    "def create_embeddings_from_folder(folder):\n",
    "  files=list_folder_contents_os_walk(folder)\n",
    "  embeddings=create_image_embeddings(files)\n",
    "  return embeddings"
   ]
  },
  {
   "cell_type": "code",
   "execution_count": 52,
   "id": "21912b8b",
   "metadata": {},
   "outputs": [],
   "source": [
    "embeddings=create_embeddings_from_folder(image_paths)"
   ]
  },
  {
   "cell_type": "code",
   "execution_count": 54,
   "id": "3ed0f745",
   "metadata": {},
   "outputs": [
    {
     "data": {
      "text/plain": [
       "34"
      ]
     },
     "execution_count": 54,
     "metadata": {},
     "output_type": "execute_result"
    }
   ],
   "source": [
    "len(embeddings)"
   ]
  },
  {
   "cell_type": "code",
   "execution_count": null,
   "id": "10bfd486",
   "metadata": {},
   "outputs": [],
   "source": [
    "def upsert_to_collection(embeddings,video_id)"
   ]
  },
  {
   "cell_type": "code",
   "execution_count": 5,
   "id": "59325e14",
   "metadata": {},
   "outputs": [],
   "source": [
    "from yt_rag.vector_store.pg_vector_operations import PG_Vector_search"
   ]
  },
  {
   "cell_type": "code",
   "execution_count": 6,
   "id": "8ba960c7",
   "metadata": {},
   "outputs": [],
   "source": [
    "pg_vector_search=PG_Vector_search()"
   ]
  },
  {
   "cell_type": "code",
   "execution_count": 1,
   "id": "f78a1df1",
   "metadata": {},
   "outputs": [
    {
     "name": "stderr",
     "output_type": "stream",
     "text": [
      "c:\\Users\\bored\\Music\\YT_RAG\\.venv\\lib\\site-packages\\tqdm\\auto.py:21: TqdmWarning: IProgress not found. Please update jupyter and ipywidgets. See https://ipywidgets.readthedocs.io/en/stable/user_install.html\n",
      "  from .autonotebook import tqdm as notebook_tqdm\n"
     ]
    }
   ],
   "source": [
    "from yt_rag.vector_store.embeddings import create_text_embeddings"
   ]
  },
  {
   "cell_type": "code",
   "execution_count": 2,
   "id": "91f7f93a",
   "metadata": {},
   "outputs": [],
   "source": [
    "query=\"gerome Powell speaks about the Federal Open Market Committee’s decision to lower the benchmark interest rate by a quarter percentage point. Here are some of the key moments from Powell’s news conferenc\""
   ]
  },
  {
   "cell_type": "code",
   "execution_count": 3,
   "id": "ff42ebc4",
   "metadata": {},
   "outputs": [],
   "source": [
    "query_embeddings=create_text_embeddings(query)"
   ]
  },
  {
   "cell_type": "code",
   "execution_count": 7,
   "id": "f20c54c1",
   "metadata": {},
   "outputs": [
    {
     "name": "stdout",
     "output_type": "stream",
     "text": [
      "Matching transcript to chunks\n",
      "Matching transcript to chunks completed\n"
     ]
    }
   ],
   "source": [
    "test_results=pg_vector_search.match_transcript(video_id=\"wCNIhFdhgLE\",query_embedding=query_embeddings)"
   ]
  },
  {
   "cell_type": "code",
   "execution_count": 8,
   "id": "c30da770",
   "metadata": {},
   "outputs": [
    {
     "data": {
      "text/plain": [
       "[{'transcript_embed_id': 'b30842fc-3bb3-416d-b076-808f37492eb0',\n",
       "  'content': '{\"page_content\":\"In support of our goals.\\\\nAnd in light of the shift in the balance of risks.\\\\nToday, the Federal Open Market Committee decided to lower our policy interest\\\\nrate by a quarter percentage point. The labor market was in very solid\\\\ncondition with strong job creation and all those things.\\\\nI think if you go back to April and now look at the revised job creation numbers\\\\nfor four May, June, July and August. You can kind of I can no longer say that\\\\nwe did welcome a new committee member today, as we always do, and the\\\\ncommittee remains united and in pursuing our dual mandate goals.\\\\nI think you can think of this in a way as a risk management cut.\\\\nInflation, we continue to expect it to move up, maybe not as high as we would\\\\nhave expected it to move up. A few months ago,\\\\nthe pass through into of of the tariffs into inflation has been slower and\\\\nsmaller.\",\"metadata\":{\"start\":0,\"video_id\":\"wCNIhFdhgLE\"},\"id\":\"1ade3b37-02b3-402e-a9ac-06be5fd019eb\"}',\n",
       "  'distance': 0.326830744743271,\n",
       "  'similarity': 0.673169255256729,\n",
       "  'created_at': '2025-09-18T04:24:45.645017+00:00'}]"
      ]
     },
     "execution_count": 8,
     "metadata": {},
     "output_type": "execute_result"
    }
   ],
   "source": [
    "test_results"
   ]
  },
  {
   "cell_type": "code",
   "execution_count": 10,
   "id": "60491007",
   "metadata": {},
   "outputs": [
    {
     "name": "stdout",
     "output_type": "stream",
     "text": [
      "matching frames to url\n"
     ]
    }
   ],
   "source": [
    "image_results=pg_vector_search.match_frames(video_id=\"wCNIhFdhgLE\",query_embedding=query_embeddings)"
   ]
  },
  {
   "cell_type": "code",
   "execution_count": 11,
   "id": "fd7bbde8",
   "metadata": {},
   "outputs": [
    {
     "data": {
      "text/plain": [
       "[{'frame_embed_id': 'b054a727-816e-4b17-8eae-160296aa1298',\n",
       "  'frame_url': \"'https://sofowbahdzuboflvuprw.supabase.co/storage/v1/object/public/images/./wCNIhFdhgLE/frame_0002.jpg\",\n",
       "  'distance': 0.692015482898827,\n",
       "  'similarity': 0.307984517101173,\n",
       "  'created_at': '2025-09-18T04:24:44.878734+00:00'},\n",
       " {'frame_embed_id': 'cf230a88-dd8e-4c9d-86fd-86e0972df306',\n",
       "  'frame_url': \"'https://sofowbahdzuboflvuprw.supabase.co/storage/v1/object/public/images/./wCNIhFdhgLE/frame_0001.jpg\",\n",
       "  'distance': 0.699967890987424,\n",
       "  'similarity': 0.300032109012576,\n",
       "  'created_at': '2025-09-18T04:24:44.878734+00:00'}]"
      ]
     },
     "execution_count": 11,
     "metadata": {},
     "output_type": "execute_result"
    }
   ],
   "source": [
    "image_results"
   ]
  },
  {
   "cell_type": "code",
   "execution_count": null,
   "id": "5d1f5078",
   "metadata": {},
   "outputs": [],
   "source": []
  }
 ],
 "metadata": {
  "kernelspec": {
   "display_name": "YT_RAG",
   "language": "python",
   "name": "python3"
  },
  "language_info": {
   "codemirror_mode": {
    "name": "ipython",
    "version": 3
   },
   "file_extension": ".py",
   "mimetype": "text/x-python",
   "name": "python",
   "nbconvert_exporter": "python",
   "pygments_lexer": "ipython3",
   "version": "3.10.15"
  }
 },
 "nbformat": 4,
 "nbformat_minor": 5
}
