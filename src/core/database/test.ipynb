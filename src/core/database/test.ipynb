{
 "cells": [
  {
   "cell_type": "code",
   "execution_count": 1,
   "id": "0808ebbb",
   "metadata": {},
   "outputs": [],
   "source": [
    "from core.database.supabase_client import get_supabase_client"
   ]
  },
  {
   "cell_type": "code",
   "execution_count": 2,
   "id": "fc2ba130",
   "metadata": {},
   "outputs": [],
   "source": [
    "client=get_supabase_client()"
   ]
  },
  {
   "cell_type": "code",
   "execution_count": 3,
   "id": "d009af32",
   "metadata": {},
   "outputs": [
    {
     "name": "stdout",
     "output_type": "stream",
     "text": [
      "Inserted: [{'namespace': 'demo', 'embedding': '[1,0,0]', 'metadata': {'id': 'A', 'text': 'red apple'}, 'created_at': '2025-09-17T09:06:29.219387'}, {'namespace': 'demo', 'embedding': '[0.9,0.1,0]', 'metadata': {'id': 'B', 'text': 'ripe apple'}, 'created_at': '2025-09-17T09:06:29.219387'}, {'namespace': 'demo', 'embedding': '[0,1,0]', 'metadata': {'id': 'C', 'text': 'fresh lime'}, 'created_at': '2025-09-17T09:06:29.219387'}, {'namespace': 'demo', 'embedding': '[0,0,1]', 'metadata': {'id': 'D', 'text': 'blue sky'}, 'created_at': '2025-09-17T09:06:29.219387'}]\n",
      "{'namespace': 'demo', 'embedding': '[1,0,0]', 'metadata': {'id': 'A', 'text': 'red apple'}, 'created_at': '2025-09-17T09:06:29.219387'}\n",
      "{'namespace': 'demo', 'embedding': '[0.9,0.1,0]', 'metadata': {'id': 'B', 'text': 'ripe apple'}, 'created_at': '2025-09-17T09:06:29.219387'}\n",
      "{'namespace': 'demo', 'embedding': '[0,1,0]', 'metadata': {'id': 'C', 'text': 'fresh lime'}, 'created_at': '2025-09-17T09:06:29.219387'}\n",
      "{'namespace': 'demo', 'embedding': '[0,0,1]', 'metadata': {'id': 'D', 'text': 'blue sky'}, 'created_at': '2025-09-17T09:06:29.219387'}\n"
     ]
    }
   ],
   "source": [
    "\n",
    "client.table(\"embeddings\").delete().eq(\"namespace\", \"demo\").execute()\n",
    "\n",
    "rows = [\n",
    "    {\"namespace\": \"demo\", \"embedding\": [1.0, 0.0, 0.0], \"metadata\": {\"id\": \"A\", \"text\": \"red apple\"}},\n",
    "    {\"namespace\": \"demo\", \"embedding\": [0.9, 0.1, 0.0], \"metadata\": {\"id\": \"B\", \"text\": \"ripe apple\"}},\n",
    "    {\"namespace\": \"demo\", \"embedding\": [0.0, 1.0, 0.0], \"metadata\": {\"id\": \"C\", \"text\": \"fresh lime\"}},\n",
    "    {\"namespace\": \"demo\", \"embedding\": [0.0, 0.0, 1.0], \"metadata\": {\"id\": \"D\", \"text\": \"blue sky\"}},\n",
    "]\n",
    "\n",
    "insert_res = client.table(\"embeddings\").insert(rows).execute()\n",
    "print(\"Inserted:\", insert_res.data)\n",
    "\n",
    "check = (\n",
    "    client.table(\"embeddings\")\n",
    "    .select(\"namespace, embedding, metadata, created_at\")\n",
    "    .eq(\"namespace\", \"demo\")\n",
    "    .order(\"created_at\", desc=False)\n",
    "    .execute()\n",
    ")\n",
    "for r in check.data:\n",
    "    print(r)\n"
   ]
  },
  {
   "cell_type": "code",
   "execution_count": null,
   "id": "c9ad58c9",
   "metadata": {},
   "outputs": [
    {
     "name": "stdout",
     "output_type": "stream",
     "text": [
      "[{'namespace': 'demo', 'metadata': {'id': 'A', 'text': 'red apple'}, 'created_at': '2025-09-17T09:06:29.219387+00:00', 'distance': 0.000208188971279388, 'similarity': 0.999791811028721}, {'namespace': 'demo', 'metadata': {'id': 'B', 'text': 'ripe apple'}, 'created_at': '2025-09-17T09:06:29.219387+00:00', 'distance': 0.00406998777608947, 'similarity': 0.995930012223911}, {'namespace': 'demo', 'metadata': {'id': 'C', 'text': 'fresh lime'}, 'created_at': '2025-09-17T09:06:29.219387+00:00', 'distance': 0.979596086342389, 'similarity': 0.0204039136576111}]\n"
     ]
    }
   ],
   "source": [
    "res = client.rpc(\n",
    "  \"match_embeddings\",\n",
    "  {\n",
    "    \"in_namespace\": \"demo\",\n",
    "    \"query_embedding\": [0.98, 0.02, 0.0], \n",
    "    \"match_count\": 3,\n",
    "    \"filter\": {},\n",
    "  },\n",
    ").execute()\n",
    "print(res.data)\n"
   ]
  },
  {
   "cell_type": "code",
   "execution_count": 7,
   "id": "d22e7363",
   "metadata": {},
   "outputs": [
    {
     "name": "stdout",
     "output_type": "stream",
     "text": [
      "[\n",
      "    {\n",
      "        \"namespace\": \"demo\",\n",
      "        \"metadata\": {\n",
      "            \"id\": \"A\",\n",
      "            \"text\": \"red apple\"\n",
      "        },\n",
      "        \"created_at\": \"2025-09-17T09:06:29.219387+00:00\",\n",
      "        \"distance\": 0.000208188971279388,\n",
      "        \"similarity\": 0.999791811028721\n",
      "    },\n",
      "    {\n",
      "        \"namespace\": \"demo\",\n",
      "        \"metadata\": {\n",
      "            \"id\": \"B\",\n",
      "            \"text\": \"ripe apple\"\n",
      "        },\n",
      "        \"created_at\": \"2025-09-17T09:06:29.219387+00:00\",\n",
      "        \"distance\": 0.00406998777608947,\n",
      "        \"similarity\": 0.995930012223911\n",
      "    },\n",
      "    {\n",
      "        \"namespace\": \"demo\",\n",
      "        \"metadata\": {\n",
      "            \"id\": \"C\",\n",
      "            \"text\": \"fresh lime\"\n",
      "        },\n",
      "        \"created_at\": \"2025-09-17T09:06:29.219387+00:00\",\n",
      "        \"distance\": 0.979596086342389,\n",
      "        \"similarity\": 0.0204039136576111\n",
      "    }\n",
      "]\n"
     ]
    }
   ],
   "source": [
    "import json\n",
    "\n",
    "pretty_json_string = json.dumps(res.data, indent=4)\n",
    "print(pretty_json_string)"
   ]
  },
  {
   "cell_type": "code",
   "execution_count": 9,
   "id": "966af7da",
   "metadata": {},
   "outputs": [],
   "source": [
    "bucket = \"images\"\n",
    "try:\n",
    "    client.storage.create_bucket(bucket, options={\"public\": True})\n",
    "except Exception:\n",
    "    pass  "
   ]
  },
  {
   "cell_type": "code",
   "execution_count": 10,
   "id": "d92b9c28",
   "metadata": {},
   "outputs": [],
   "source": [
    "import mimetypes, pathlib\n",
    "\n",
    "path_local = \"IMG-20250601-WA0022.jpg\"\n",
    "dest_path  = \"kids/jaivik_smile.jpg\"  \n",
    "ctype, _ = mimetypes.guess_type(path_local)\n",
    "ctype = ctype or \"application/octet-stream\"\n",
    "\n",
    "with open(path_local, \"rb\") as f:\n",
    "    client.storage.from_(bucket).upload(\n",
    "        path=dest_path,\n",
    "        file=f,\n",
    "        file_options={\"content-type\": ctype, \"cache-control\": \"3600\", \"upsert\": \"true\"},\n",
    "    )\n",
    "\n"
   ]
  },
  {
   "cell_type": "code",
   "execution_count": 11,
   "id": "7151cda7",
   "metadata": {},
   "outputs": [
    {
     "name": "stdout",
     "output_type": "stream",
     "text": [
      "https://sofowbahdzuboflvuprw.supabase.co/storage/v1/object/public/images/kids/jaivik_smile.jpg?\n"
     ]
    }
   ],
   "source": [
    "public = client.storage.from_(bucket).get_public_url(dest_path)\n",
    "print(public)\n"
   ]
  },
  {
   "cell_type": "code",
   "execution_count": null,
   "id": "1fe8036b",
   "metadata": {},
   "outputs": [],
   "source": [
    "import os\n",
    "\n",
    "def list_folder_contents_os_walk(start_path):\n",
    "    total_files=[]\n",
    "    for root, dirs, files in os.walk(start_path):\n",
    "        if dirs:\n",
    "          for dir in dirs:\n",
    "            for file in files:\n",
    "              print(\"hi\")   \n",
    "              file_path=root+\"/\"+dir+\"/\"+file\n",
    "              print(file_path)\n",
    "              total_files.append(file_path)\n",
    "        else:\n",
    "          for file in files:\n",
    "            print(\"hi\")   \n",
    "            file_path=root+\"/\"+file\n",
    "            print(file_path)\n",
    "            total_files.append(file_path)\n",
    "           \n",
    "    return total_files"
   ]
  },
  {
   "cell_type": "code",
   "execution_count": 5,
   "id": "a8808d59",
   "metadata": {},
   "outputs": [
    {
     "name": "stdout",
     "output_type": "stream",
     "text": [
      "hi\n",
      "test_folder/downloaded.jpg\n",
      "hi\n",
      "test_folder/downloaded_image.jpg\n",
      "hi\n",
      "test_folder/IMG-20250601-WA0022.jpg\n"
     ]
    }
   ],
   "source": [
    "directory_to_scan = \"test_folder\" \n",
    "files=list_folder_contents_os_walk(directory_to_scan)"
   ]
  },
  {
   "cell_type": "code",
   "execution_count": 6,
   "id": "87f7c857",
   "metadata": {},
   "outputs": [
    {
     "data": {
      "text/plain": [
       "['test_folder/downloaded.jpg',\n",
       " 'test_folder/downloaded_image.jpg',\n",
       " 'test_folder/IMG-20250601-WA0022.jpg']"
      ]
     },
     "execution_count": 6,
     "metadata": {},
     "output_type": "execute_result"
    }
   ],
   "source": [
    "files"
   ]
  },
  {
   "cell_type": "code",
   "execution_count": 1,
   "id": "21836b94",
   "metadata": {},
   "outputs": [],
   "source": [
    "def push_to_bucket(image_folder):\n",
    "  files=list_folder_contents_os_walk(image_folder)\n",
    "  try :\n",
    "    for file in files:\n",
    "        ctype, _ = mimetypes.guess_type(file)\n",
    "        ctype = ctype or \"application/octet-stream\"\n",
    "        with open(path_local, \"rb\") as f:\n",
    "            client.storage.from_(bucket).upload(\n",
    "                path=file,\n",
    "                file=f,\n",
    "                file_options={\"content-type\": ctype, \"cache-control\": \"3600\", \"upsert\": \"true\"},\n",
    "            )\n",
    "    return True\n",
    "  except Exception as e:\n",
    "    print(e)\n",
    "    return False"
   ]
  },
  {
   "cell_type": "code",
   "execution_count": null,
   "id": "bc7bae4d",
   "metadata": {},
   "outputs": [],
   "source": [
    "from "
   ]
  },
  {
   "cell_type": "code",
   "execution_count": 13,
   "id": "428aa901",
   "metadata": {},
   "outputs": [],
   "source": [
    "import requests"
   ]
  },
  {
   "cell_type": "code",
   "execution_count": 16,
   "id": "157ca072",
   "metadata": {},
   "outputs": [],
   "source": [
    "from IPython.display import Image"
   ]
  },
  {
   "cell_type": "code",
   "execution_count": 21,
   "id": "80158a06",
   "metadata": {},
   "outputs": [
    {
     "data": {
      "text/html": [
       "<img src=\"https://sofowbahdzuboflvuprw.supabase.co/storage/v1/object/public/images/kids/jaivik_smile.jpg?\" width=\"480\" height=\"560\"/>"
      ],
      "text/plain": [
       "<IPython.core.display.Image object>"
      ]
     },
     "execution_count": 21,
     "metadata": {},
     "output_type": "execute_result"
    }
   ],
   "source": [
    "image_url = \"https://sofowbahdzuboflvuprw.supabase.co/storage/v1/object/public/images/kids/jaivik_smile.jpg?\"\n",
    "Image(url=image_url,width=480,height=560)"
   ]
  },
  {
   "cell_type": "code",
   "execution_count": 15,
   "id": "2c714df4",
   "metadata": {},
   "outputs": [],
   "source": [
    "from PIL import Image"
   ]
  },
  {
   "cell_type": "code",
   "execution_count": 10,
   "id": "d5ce53b1",
   "metadata": {},
   "outputs": [],
   "source": [
    "from yt_rag.llm_service.gemini_client import get_gemini_client"
   ]
  },
  {
   "cell_type": "code",
   "execution_count": 11,
   "id": "0c691dc3",
   "metadata": {},
   "outputs": [],
   "source": [
    "gemini_clinnt=get_gemini_client()"
   ]
  },
  {
   "cell_type": "code",
   "execution_count": null,
   "id": "cb215c00",
   "metadata": {},
   "outputs": [
    {
     "name": "stdout",
     "output_type": "stream",
     "text": [
      "This image features a **joyful baby** lying on their stomach, likely during \"tummy time,\" with a wide, open-mouthed laugh or giggle. The baby is looking upwards and to the right of the frame, conveying an expression of pure happiness and delight.\n",
      "\n",
      "Here are more details:\n",
      "*   **Subject:** A baby with dark hair and dark, sparkling eyes.\n",
      "*   **Attire:** The baby is wearing a bright blue, short-sleeved t-shirt. A thin gold chain is visible around their neck, and black beaded bracelets are on both wrists.\n",
      "*   **Distinguishing Marks:** There are two dark circular marks on the baby's face – one more prominent on the right cheek and another smaller one on the forehead (often culturally known as a 'pottu' or 'bindi' in some cultures, believed to ward off evil).\n",
      "*   **Setting:** The baby is on a white, textured blanket or sheet. In the foreground, there are some vibrant red flowers (possibly hibiscus) and green leaves, suggesting a decorative or playful setup.\n",
      "*   **Background:** The background is softly blurred but indicates an indoor home environment. On the left side, a silver refrigerator with items attached to it is visible. On the right, there's a window with horizontal bars, allowing natural light into the room. The walls are light-colored.\n",
      "\n",
      "The overall impression of the image is one of innocence, warmth, and the contagious joy of a baby.\n"
     ]
    }
   ],
   "source": [
    "from google.genai import types\n",
    "\n",
    "image_path = \"https://sofowbahdzuboflvuprw.supabase.co/storage/v1/object/public/images/kids/jaivik_smile.jpg?\"\n",
    "image_bytes = requests.get(image_path).content\n",
    "image = types.Part.from_bytes(\n",
    "  data=image_bytes, mime_type=\"image/jpeg\"\n",
    ")\n",
    "\n",
    "\n",
    "response = gemini_clinnt.models.generate_content(\n",
    "    model=\"gemini-2.5-flash\",\n",
    "    contents=[\"What is this image?\", image],\n",
    ")\n",
    "\n",
    "print(response.text)"
   ]
  },
  {
   "cell_type": "code",
   "execution_count": 22,
   "id": "d1c99237",
   "metadata": {},
   "outputs": [
    {
     "data": {
      "text/plain": [
       "google.genai.types.Part"
      ]
     },
     "execution_count": 22,
     "metadata": {},
     "output_type": "execute_result"
    }
   ],
   "source": [
    "type(image)"
   ]
  },
  {
   "cell_type": "code",
   "execution_count": 28,
   "id": "5f087504",
   "metadata": {},
   "outputs": [],
   "source": [
    "def online_image_to_bytes(image_url=[]):\n",
    "  images=[]\n",
    "  for url in image_url:\n",
    "    image_bytes = requests.get(url).content\n",
    "    image = types.Part.from_bytes(\n",
    "    data=image_bytes, mime_type=\"image/jpeg\"\n",
    "  )\n",
    "    images.append(image)\n",
    "  return images\n",
    "  "
   ]
  },
  {
   "cell_type": "code",
   "execution_count": 29,
   "id": "63a01b7c",
   "metadata": {},
   "outputs": [],
   "source": [
    "images_urls=[image_path]"
   ]
  },
  {
   "cell_type": "code",
   "execution_count": 30,
   "id": "cde40fb2",
   "metadata": {},
   "outputs": [],
   "source": [
    "images=online_image_to_bytes(images_urls)"
   ]
  },
  {
   "cell_type": "code",
   "execution_count": 31,
   "id": "3f7e5baf",
   "metadata": {},
   "outputs": [
    {
     "name": "stdout",
     "output_type": "stream",
     "text": [
      "This image is a close-up photograph of a **joyful baby** lying on its stomach (doing tummy time) on a white, textured blanket or cloth.\n",
      "\n",
      "Here's a detailed description:\n",
      "\n",
      "*   **Subject:** A baby, likely an infant, with dark hair and a light complexion. The baby is laughing heartily, with a wide-open mouth and bright, upward-looking eyes, suggesting an expression of pure happiness.\n",
      "*   **Distinctive Features:** The baby has a small black mark (possibly a bindi or tilak) on its forehead and a prominent dark mole on its left cheek. A thin gold chain is visible around its neck, and a black beaded bracelet is on its left wrist.\n",
      "*   **Clothing:** The baby is wearing a simple, light blue short-sleeved t-shirt.\n",
      "*   **Foreground/Setting:** The baby is positioned on a soft, white, possibly crocheted or textured blanket. Several red flowers (appearing to be hibiscus) and green leaves are scattered around the baby, especially to its left.\n",
      "*   **Background:** The background indicates an indoor home environment. To the left, a grey refrigerator with items attached is visible, suggesting a kitchen area. To the right, there's a window with security bars, and white walls. A reddish cloth or item hangs on the far right wall.\n",
      "\n",
      "The overall impression is a sweet and candid moment capturing the baby's delightful laughter.\n"
     ]
    }
   ],
   "source": [
    "response = gemini_clinnt.models.generate_content(\n",
    "    model=\"gemini-2.5-flash\",\n",
    "    contents=[\"What is this image?\", images],\n",
    ")\n",
    "\n",
    "print(response.text)"
   ]
  },
  {
   "cell_type": "code",
   "execution_count": null,
   "id": "15d1f40f",
   "metadata": {},
   "outputs": [],
   "source": []
  }
 ],
 "metadata": {
  "kernelspec": {
   "display_name": "YT_RAG",
   "language": "python",
   "name": "python3"
  },
  "language_info": {
   "codemirror_mode": {
    "name": "ipython",
    "version": 3
   },
   "file_extension": ".py",
   "mimetype": "text/x-python",
   "name": "python",
   "nbconvert_exporter": "python",
   "pygments_lexer": "ipython3",
   "version": "3.10.15"
  }
 },
 "nbformat": 4,
 "nbformat_minor": 5
}
